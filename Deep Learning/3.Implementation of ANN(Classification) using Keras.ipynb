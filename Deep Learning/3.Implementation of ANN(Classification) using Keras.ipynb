{
 "cells": [
  {
   "attachments": {},
   "cell_type": "markdown",
   "metadata": {
    "id": "UKxjhMqYCYmY"
   },
   "source": [
    "# Implementation of ANN using Keras:"
   ]
  },
  {
   "cell_type": "code",
   "execution_count": 1,
   "metadata": {
    "id": "8cyFiytTqQ9y"
   },
   "outputs": [],
   "source": [
    "# Importing Libraries\n",
    "import tensorflow as tf\n",
    "import matplotlib.pyplot as plt\n",
    "import numpy as np\n",
    "import pandas as pd\n",
    "import seaborn as sns\n",
    "import os"
   ]
  },
  {
   "cell_type": "code",
   "execution_count": 2,
   "metadata": {
    "colab": {
     "base_uri": "https://localhost:8080/"
    },
    "id": "zRzBH6nAzVe4",
    "outputId": "c45fc31b-bd9f-4f58-b661-f5319d6e5d2a"
   },
   "outputs": [
    {
     "name": "stdout",
     "output_type": "stream",
     "text": [
      "Tensorflow Version 2.12.0\n",
      "Keras Version 2.12.0\n"
     ]
    }
   ],
   "source": [
    "# Checking version of Tensorflow ans Keras\n",
    "print(f\"Tensorflow Version {tf.__version__}\")\n",
    "print(f\"Keras Version {tf.keras.__version__}\")"
   ]
  },
  {
   "attachments": {},
   "cell_type": "markdown",
   "metadata": {
    "id": "U-KWX4byz2uJ"
   },
   "source": [
    "# GPU / CPU Check"
   ]
  },
  {
   "cell_type": "code",
   "execution_count": 3,
   "metadata": {
    "colab": {
     "base_uri": "https://localhost:8080/"
    },
    "id": "toOEyljOzzju",
    "outputId": "a4059aa2-e750-4ca4-ef9e-37216019d4b8"
   },
   "outputs": [
    {
     "data": {
      "text/plain": [
       "[]"
      ]
     },
     "execution_count": 3,
     "metadata": {},
     "output_type": "execute_result"
    }
   ],
   "source": [
    "tf.config.list_physical_devices(\"GPU\")"
   ]
  },
  {
   "cell_type": "code",
   "execution_count": 4,
   "metadata": {
    "colab": {
     "base_uri": "https://localhost:8080/"
    },
    "id": "fQ7_Dy77z9ad",
    "outputId": "9657e2d7-5252-4830-c113-b48c73f28d7e"
   },
   "outputs": [
    {
     "data": {
      "text/plain": [
       "[PhysicalDevice(name='/physical_device:CPU:0', device_type='CPU')]"
      ]
     },
     "execution_count": 4,
     "metadata": {},
     "output_type": "execute_result"
    }
   ],
   "source": [
    "tf.config.list_physical_devices(\"CPU\")"
   ]
  },
  {
   "cell_type": "code",
   "execution_count": 5,
   "metadata": {
    "colab": {
     "base_uri": "https://localhost:8080/"
    },
    "id": "BzQV7xH70AE-",
    "outputId": "2cbf1d5e-8407-4fb6-d1b9-977522b51e44"
   },
   "outputs": [
    {
     "name": "stdout",
     "output_type": "stream",
     "text": [
      "GPU isn't available!\n",
      "CPU is available!\n",
      "Details >> [PhysicalDevice(name='/physical_device:CPU:0', device_type='CPU')]\n"
     ]
    }
   ],
   "source": [
    "check_list = ['GPU','CPU']\n",
    "\n",
    "for device in check_list:\n",
    "  out = tf.config.list_physical_devices(device)\n",
    "  if len(out) > 0:\n",
    "    print(f\"{device} is available!\")\n",
    "    print(f\"Details >> {out}\")\n",
    "  else:\n",
    "    print(f\"{device} isn't available!\")"
   ]
  },
  {
   "attachments": {},
   "cell_type": "markdown",
   "metadata": {
    "id": "gYt1wtqx0H0g"
   },
   "source": [
    "# Creating a simple classifier using keras on MNIST data"
   ]
  },
  {
   "cell_type": "code",
   "execution_count": 6,
   "metadata": {
    "colab": {
     "base_uri": "https://localhost:8080/"
    },
    "id": "lA3Jiupu0Ck1",
    "outputId": "572a673c-6e51-45d7-ca1e-a223def3b9fb"
   },
   "outputs": [],
   "source": [
    "mnist = tf.keras.datasets.mnist"
   ]
  },
  {
   "attachments": {},
   "cell_type": "markdown",
   "metadata": {},
   "source": [
    "mnist"
   ]
  },
  {
   "cell_type": "code",
   "execution_count": 11,
   "metadata": {},
   "outputs": [
    {
     "data": {
      "text/plain": [
       "<module 'keras.api._v2.keras.datasets.mnist' from 'c:\\\\Users\\\\VAIBHAV\\\\anaconda3\\\\lib\\\\site-packages\\\\keras\\\\api\\\\_v2\\\\keras\\\\datasets\\\\mnist\\\\__init__.py'>"
      ]
     },
     "execution_count": 11,
     "metadata": {},
     "output_type": "execute_result"
    }
   ],
   "source": [
    "mnist"
   ]
  },
  {
   "cell_type": "code",
   "execution_count": 12,
   "metadata": {},
   "outputs": [],
   "source": [
    "(X_train_full, y_train_full), (X_test, y_test) = mnist.load_data()"
   ]
  },
  {
   "cell_type": "code",
   "execution_count": 13,
   "metadata": {},
   "outputs": [
    {
     "data": {
      "text/plain": [
       "array([[  0,   0,   0,   0,   0,   0,   0,   0,   0,   0,   0,   0,   0,\n",
       "          0,   0,   0,   0,   0,   0,   0,   0,   0,   0,   0,   0,   0,\n",
       "          0,   0],\n",
       "       [  0,   0,   0,   0,   0,   0,   0,   0,   0,   0,   0,   0,   0,\n",
       "          0,   0,   0,   0,   0,   0,   0,   0,   0,   0,   0,   0,   0,\n",
       "          0,   0],\n",
       "       [  0,   0,   0,   0,   0,   0,   0,   0,   0,   0,   0,   0,   0,\n",
       "          0,   0,   0,   0,   0,   0,   0,   0,   0,   0,   0,   0,   0,\n",
       "          0,   0],\n",
       "       [  0,   0,   0,   0,   0,   0,   0,   0,   0,   0,   0,   0,   0,\n",
       "          0,   0,   0,   0,   0,   0,   0,   0,   0,   0,   0,   0,   0,\n",
       "          0,   0],\n",
       "       [  0,   0,   0,   0,   0,   0,   0,   0,   0,   0,   0,   0,   0,\n",
       "          0,   0,   0,   0,   0,   0,   0,   0,   0,   0,   0,   0,   0,\n",
       "          0,   0],\n",
       "       [  0,   0,   0,   0,   0,   0,   0,   0,   0,   0,   0,   0,   3,\n",
       "         18,  18,  18, 126, 136, 175,  26, 166, 255, 247, 127,   0,   0,\n",
       "          0,   0],\n",
       "       [  0,   0,   0,   0,   0,   0,   0,   0,  30,  36,  94, 154, 170,\n",
       "        253, 253, 253, 253, 253, 225, 172, 253, 242, 195,  64,   0,   0,\n",
       "          0,   0],\n",
       "       [  0,   0,   0,   0,   0,   0,   0,  49, 238, 253, 253, 253, 253,\n",
       "        253, 253, 253, 253, 251,  93,  82,  82,  56,  39,   0,   0,   0,\n",
       "          0,   0],\n",
       "       [  0,   0,   0,   0,   0,   0,   0,  18, 219, 253, 253, 253, 253,\n",
       "        253, 198, 182, 247, 241,   0,   0,   0,   0,   0,   0,   0,   0,\n",
       "          0,   0],\n",
       "       [  0,   0,   0,   0,   0,   0,   0,   0,  80, 156, 107, 253, 253,\n",
       "        205,  11,   0,  43, 154,   0,   0,   0,   0,   0,   0,   0,   0,\n",
       "          0,   0],\n",
       "       [  0,   0,   0,   0,   0,   0,   0,   0,   0,  14,   1, 154, 253,\n",
       "         90,   0,   0,   0,   0,   0,   0,   0,   0,   0,   0,   0,   0,\n",
       "          0,   0],\n",
       "       [  0,   0,   0,   0,   0,   0,   0,   0,   0,   0,   0, 139, 253,\n",
       "        190,   2,   0,   0,   0,   0,   0,   0,   0,   0,   0,   0,   0,\n",
       "          0,   0],\n",
       "       [  0,   0,   0,   0,   0,   0,   0,   0,   0,   0,   0,  11, 190,\n",
       "        253,  70,   0,   0,   0,   0,   0,   0,   0,   0,   0,   0,   0,\n",
       "          0,   0],\n",
       "       [  0,   0,   0,   0,   0,   0,   0,   0,   0,   0,   0,   0,  35,\n",
       "        241, 225, 160, 108,   1,   0,   0,   0,   0,   0,   0,   0,   0,\n",
       "          0,   0],\n",
       "       [  0,   0,   0,   0,   0,   0,   0,   0,   0,   0,   0,   0,   0,\n",
       "         81, 240, 253, 253, 119,  25,   0,   0,   0,   0,   0,   0,   0,\n",
       "          0,   0],\n",
       "       [  0,   0,   0,   0,   0,   0,   0,   0,   0,   0,   0,   0,   0,\n",
       "          0,  45, 186, 253, 253, 150,  27,   0,   0,   0,   0,   0,   0,\n",
       "          0,   0],\n",
       "       [  0,   0,   0,   0,   0,   0,   0,   0,   0,   0,   0,   0,   0,\n",
       "          0,   0,  16,  93, 252, 253, 187,   0,   0,   0,   0,   0,   0,\n",
       "          0,   0],\n",
       "       [  0,   0,   0,   0,   0,   0,   0,   0,   0,   0,   0,   0,   0,\n",
       "          0,   0,   0,   0, 249, 253, 249,  64,   0,   0,   0,   0,   0,\n",
       "          0,   0],\n",
       "       [  0,   0,   0,   0,   0,   0,   0,   0,   0,   0,   0,   0,   0,\n",
       "          0,  46, 130, 183, 253, 253, 207,   2,   0,   0,   0,   0,   0,\n",
       "          0,   0],\n",
       "       [  0,   0,   0,   0,   0,   0,   0,   0,   0,   0,   0,   0,  39,\n",
       "        148, 229, 253, 253, 253, 250, 182,   0,   0,   0,   0,   0,   0,\n",
       "          0,   0],\n",
       "       [  0,   0,   0,   0,   0,   0,   0,   0,   0,   0,  24, 114, 221,\n",
       "        253, 253, 253, 253, 201,  78,   0,   0,   0,   0,   0,   0,   0,\n",
       "          0,   0],\n",
       "       [  0,   0,   0,   0,   0,   0,   0,   0,  23,  66, 213, 253, 253,\n",
       "        253, 253, 198,  81,   2,   0,   0,   0,   0,   0,   0,   0,   0,\n",
       "          0,   0],\n",
       "       [  0,   0,   0,   0,   0,   0,  18, 171, 219, 253, 253, 253, 253,\n",
       "        195,  80,   9,   0,   0,   0,   0,   0,   0,   0,   0,   0,   0,\n",
       "          0,   0],\n",
       "       [  0,   0,   0,   0,  55, 172, 226, 253, 253, 253, 253, 244, 133,\n",
       "         11,   0,   0,   0,   0,   0,   0,   0,   0,   0,   0,   0,   0,\n",
       "          0,   0],\n",
       "       [  0,   0,   0,   0, 136, 253, 253, 253, 212, 135, 132,  16,   0,\n",
       "          0,   0,   0,   0,   0,   0,   0,   0,   0,   0,   0,   0,   0,\n",
       "          0,   0],\n",
       "       [  0,   0,   0,   0,   0,   0,   0,   0,   0,   0,   0,   0,   0,\n",
       "          0,   0,   0,   0,   0,   0,   0,   0,   0,   0,   0,   0,   0,\n",
       "          0,   0],\n",
       "       [  0,   0,   0,   0,   0,   0,   0,   0,   0,   0,   0,   0,   0,\n",
       "          0,   0,   0,   0,   0,   0,   0,   0,   0,   0,   0,   0,   0,\n",
       "          0,   0],\n",
       "       [  0,   0,   0,   0,   0,   0,   0,   0,   0,   0,   0,   0,   0,\n",
       "          0,   0,   0,   0,   0,   0,   0,   0,   0,   0,   0,   0,   0,\n",
       "          0,   0]], dtype=uint8)"
      ]
     },
     "execution_count": 13,
     "metadata": {},
     "output_type": "execute_result"
    }
   ],
   "source": [
    "X_train_full[0]"
   ]
  },
  {
   "cell_type": "code",
   "execution_count": 7,
   "metadata": {
    "colab": {
     "base_uri": "https://localhost:8080/"
    },
    "id": "Ij9IgzYL0Nl1",
    "outputId": "878ab33b-9df0-4737-cbe7-8e1b7f28fdd1"
   },
   "outputs": [
    {
     "name": "stdout",
     "output_type": "stream",
     "text": [
      "data type of X_train_full: uint8,\n",
      " shape of X_train_full: (60000, 28, 28)\n"
     ]
    }
   ],
   "source": [
    "print(f\"data type of X_train_full: {X_train_full.dtype},\\n shape of X_train_full: {X_train_full.shape}\")"
   ]
  },
  {
   "cell_type": "code",
   "execution_count": 14,
   "metadata": {},
   "outputs": [
    {
     "data": {
      "text/plain": [
       "(28, 28)"
      ]
     },
     "execution_count": 14,
     "metadata": {},
     "output_type": "execute_result"
    }
   ],
   "source": [
    "X_train_full[0].shape"
   ]
  },
  {
   "cell_type": "code",
   "execution_count": 15,
   "metadata": {
    "colab": {
     "base_uri": "https://localhost:8080/"
    },
    "id": "sTmnrnXX0Rv4",
    "outputId": "0c3add0f-090b-4ccb-9de6-2dfb997e1c6d"
   },
   "outputs": [
    {
     "data": {
      "text/plain": [
       "(10000, 28, 28)"
      ]
     },
     "execution_count": 15,
     "metadata": {},
     "output_type": "execute_result"
    }
   ],
   "source": [
    "X_test.shape"
   ]
  },
  {
   "cell_type": "code",
   "execution_count": 16,
   "metadata": {
    "colab": {
     "base_uri": "https://localhost:8080/"
    },
    "id": "HVFEv8wJ0Txm",
    "outputId": "361acf32-116f-4c7e-a1e0-affff38272c8"
   },
   "outputs": [
    {
     "data": {
      "text/plain": [
       "28"
      ]
     },
     "execution_count": 16,
     "metadata": {},
     "output_type": "execute_result"
    }
   ],
   "source": [
    "len(X_test[1][0])"
   ]
  },
  {
   "cell_type": "code",
   "execution_count": 10,
   "metadata": {
    "id": "enACwUkT0aIA"
   },
   "outputs": [],
   "source": [
    "# create a validation data set from the full training data \n",
    "# Scale the data between 0 to 1 by dividing it by 255. as its an unsigned data between 0-255 range\n",
    "X_valid, X_train = X_train_full[:5000] / 255., X_train_full[5000:] / 255.\n",
    "y_valid, y_train = y_train_full[:5000], y_train_full[5000:]\n",
    "\n",
    "# scale the test set as well\n",
    "X_test = X_test / 255.\n"
   ]
  },
  {
   "cell_type": "code",
   "execution_count": 14,
   "metadata": {
    "colab": {
     "base_uri": "https://localhost:8080/"
    },
    "id": "kry0b-Gr0d5P",
    "outputId": "b2183142-fa57-411c-d14b-14125c903a05"
   },
   "outputs": [
    {
     "data": {
      "text/plain": [
       "55000"
      ]
     },
     "execution_count": 14,
     "metadata": {},
     "output_type": "execute_result"
    }
   ],
   "source": [
    "len(X_train_full[5000:] )"
   ]
  },
  {
   "cell_type": "code",
   "execution_count": 17,
   "metadata": {
    "colab": {
     "base_uri": "https://localhost:8080/",
     "height": 265
    },
    "id": "7ndtCwll0f-X",
    "outputId": "ed410059-f931-41a9-fa94-27b0c568934a"
   },
   "outputs": [
    {
     "data": {
      "image/png": "[encoded data removed]",
      "text/plain": [
       "<Figure size 640x480 with 1 Axes>"
      ]
     },
     "metadata": {},
     "output_type": "display_data"
    }
   ],
   "source": [
    "# Lets view some data \n",
    "plt.imshow(X_train[0], cmap=\"binary\")\n",
    "plt.show()"
   ]
  },
  {
   "cell_type": "code",
   "execution_count": 18,
   "metadata": {
    "colab": {
     "base_uri": "https://localhost:8080/",
     "height": 881
    },
    "id": "bIX_tQ3T0iRD",
    "outputId": "6175107e-1787-4e0a-d1b1-617a291bd49a"
   },
   "outputs": [
    {
     "data": {
      "text/plain": [
       "<Axes: >"
      ]
     },
     "execution_count": 18,
     "metadata": {},
     "output_type": "execute_result"
    },
    {
     "data": {
      "image/png": "[encoded data removed]",
      "text/plain": [
       "<Figure size 1500x1500 with 2 Axes>"
      ]
     },
     "metadata": {},
     "output_type": "display_data"
    }
   ],
   "source": [
    "plt.figure(figsize=(15,15))\n",
    "sns.heatmap(X_train[0], annot=True, cmap=\"binary\")"
   ]
  },
  {
   "attachments": {},
   "cell_type": "markdown",
   "metadata": {
    "id": "gWaRi78i-Wvb"
   },
   "source": [
    "# Architecture Used:\n",
    "<img src=\"https://github.com/entbappy/Branching-tutorial/blob/master/9.png?raw=true\"\n",
    "width=\"500\" \n",
    "height=\"300\">"
   ]
  },
  {
   "cell_type": "code",
   "execution_count": 19,
   "metadata": {
    "id": "sGvWSfqY0keJ"
   },
   "outputs": [],
   "source": [
    "# Creating layers of ANN\n",
    "LAYERS = [tf.keras.layers.Flatten(input_shape=[28, 28], name=\"inputLayer\"),\n",
    "          tf.keras.layers.Dense(300, activation=\"relu\", name=\"hiddenLayer1\"),\n",
    "          tf.keras.layers.Dense(100, activation=\"relu\", name=\"hiddenLayer2\"),\n",
    "          tf.keras.layers.Dense(10, activation=\"softmax\", name=\"outputLayer\")]\n",
    "\n",
    "model_clf = tf.keras.models.Sequential(LAYERS)"
   ]
  },
  {
   "cell_type": "code",
   "execution_count": 20,
   "metadata": {
    "colab": {
     "base_uri": "https://localhost:8080/"
    },
    "id": "IkSRjh7m0vmm",
    "outputId": "7643b9c6-a9d7-439a-ac04-ee9824fad6de"
   },
   "outputs": [
    {
     "data": {
      "text/plain": [
       "[<keras.layers.reshaping.flatten.Flatten at 0x239cc1c2920>,\n",
       " <keras.layers.core.dense.Dense at 0x239cc1c3910>,\n",
       " <keras.layers.core.dense.Dense at 0x239cc1c3970>,\n",
       " <keras.layers.core.dense.Dense at 0x239cc1c29b0>]"
      ]
     },
     "execution_count": 20,
     "metadata": {},
     "output_type": "execute_result"
    }
   ],
   "source": [
    "model_clf.layers"
   ]
  },
  {
   "cell_type": "code",
   "execution_count": 21,
   "metadata": {
    "colab": {
     "base_uri": "https://localhost:8080/"
    },
    "id": "tsRtHRha0z-X",
    "outputId": "c455fa61-9d06-426e-8f21-8dd11bbb0f8c"
   },
   "outputs": [
    {
     "name": "stdout",
     "output_type": "stream",
     "text": [
      "Model: \"sequential\"\n",
      "_________________________________________________________________\n",
      " Layer (type)                Output Shape              Param #   \n",
      "=================================================================\n",
      " inputLayer (Flatten)        (None, 784)               0         \n",
      "                                                                 \n",
      " hiddenLayer1 (Dense)        (None, 300)               235500    \n",
      "                                                                 \n",
      " hiddenLayer2 (Dense)        (None, 100)               30100     \n",
      "                                                                 \n",
      " outputLayer (Dense)         (None, 10)                1010      \n",
      "                                                                 \n",
      "=================================================================\n",
      "Total params: 266,610\n",
      "Trainable params: 266,610\n",
      "Non-trainable params: 0\n",
      "_________________________________________________________________\n"
     ]
    }
   ],
   "source": [
    "model_clf.summary()"
   ]
  },
  {
   "cell_type": "code",
   "execution_count": 22,
   "metadata": {
    "colab": {
     "base_uri": "https://localhost:8080/"
    },
    "id": "kEB0echJ02F1",
    "outputId": "177a075b-151a-4741-cc52-b2f15d45c38b"
   },
   "outputs": [
    {
     "data": {
      "text/plain": [
       "(235500, 30100, 1010)"
      ]
     },
     "execution_count": 22,
     "metadata": {},
     "output_type": "execute_result"
    }
   ],
   "source": [
    "# first Layer * second Layer + bias\n",
    "784*300 + 300, 300*100+100, 100*10+10"
   ]
  },
  {
   "cell_type": "code",
   "execution_count": 23,
   "metadata": {
    "colab": {
     "base_uri": "https://localhost:8080/"
    },
    "id": "wnYO-DOB05gq",
    "outputId": "681e6e67-c508-46ff-d086-1257f62306e4"
   },
   "outputs": [
    {
     "data": {
      "text/plain": [
       "266610"
      ]
     },
     "execution_count": 23,
     "metadata": {},
     "output_type": "execute_result"
    }
   ],
   "source": [
    "# Total parameters to be trained \n",
    "sum((235500, 30100, 1010))"
   ]
  },
  {
   "cell_type": "code",
   "execution_count": 24,
   "metadata": {
    "colab": {
     "base_uri": "https://localhost:8080/",
     "height": 35
    },
    "id": "1GIEme5n08wL",
    "outputId": "50de5f52-3efc-41db-b562-d412a0a1e97a"
   },
   "outputs": [
    {
     "data": {
      "text/plain": [
       "'hiddenLayer1'"
      ]
     },
     "execution_count": 24,
     "metadata": {},
     "output_type": "execute_result"
    }
   ],
   "source": [
    "hidden1 = model_clf.layers[1]\n",
    "hidden1.name"
   ]
  },
  {
   "cell_type": "code",
   "execution_count": 36,
   "metadata": {
    "colab": {
     "base_uri": "https://localhost:8080/"
    },
    "id": "RWNnIcjd0_jj",
    "outputId": "6365beb5-eacd-4b0d-c083-37191e900696"
   },
   "outputs": [
    {
     "data": {
      "text/plain": [
       "784"
      ]
     },
     "execution_count": 36,
     "metadata": {},
     "output_type": "execute_result"
    }
   ],
   "source": [
    "len(hidden1.get_weights()[0])"
   ]
  },
  {
   "cell_type": "code",
   "execution_count": null,
   "metadata": {},
   "outputs": [],
   "source": [
    "hidden1.get_weights()[0].shape"
   ]
  },
  {
   "cell_type": "code",
   "execution_count": 37,
   "metadata": {
    "colab": {
     "base_uri": "https://localhost:8080/"
    },
    "id": "U15nIfVC1DQh",
    "outputId": "59205201-cd3c-4a55-a990-34799eb5d147"
   },
   "outputs": [
    {
     "data": {
      "text/plain": [
       "[array([[-0.00337525,  0.04680152, -0.0027792 , ..., -0.04331146,\n",
       "         -0.00848648,  0.02632602],\n",
       "        [-0.0623063 ,  0.0344222 , -0.02540609, ...,  0.02310441,\n",
       "         -0.0304629 , -0.01527403],\n",
       "        [-0.05481648,  0.04066424, -0.06756051, ..., -0.03243021,\n",
       "         -0.03573782,  0.05663477],\n",
       "        ...,\n",
       "        [ 0.04900396, -0.05376239,  0.04527165, ...,  0.02890007,\n",
       "         -0.03782417,  0.06411266],\n",
       "        [ 0.0160949 ,  0.02424984,  0.0460298 , ..., -0.0727563 ,\n",
       "          0.07096827, -0.06588912],\n",
       "        [-0.01537065,  0.00623975,  0.05802488, ..., -0.06437115,\n",
       "         -0.02955531,  0.04688423]], dtype=float32),\n",
       " array([ 0.00943877,  0.0333755 , -0.00035687,  0.00160663,  0.0075421 ,\n",
       "        -0.00771492, -0.00865108,  0.00880173,  0.01975842,  0.01847633,\n",
       "        -0.00395173,  0.00821226,  0.01578517, -0.01039199,  0.01000969,\n",
       "         0.03534034,  0.0126928 ,  0.03345712, -0.00204022,  0.02353751,\n",
       "         0.03765342,  0.01074814,  0.00199685, -0.00828412,  0.00770157,\n",
       "         0.00892328,  0.01952746, -0.00465752,  0.00460187, -0.00859253,\n",
       "        -0.00380979,  0.00712739,  0.01130609, -0.00276677,  0.00450734,\n",
       "        -0.00839777,  0.00415098,  0.01245072,  0.009259  ,  0.00974506,\n",
       "         0.0066542 ,  0.00786686,  0.01834623, -0.01937916, -0.01690545,\n",
       "        -0.00256163,  0.03901243,  0.01320825,  0.0030586 ,  0.01082504,\n",
       "         0.01984934,  0.02335319, -0.00525453, -0.00171857,  0.00468802,\n",
       "         0.00489406,  0.00350754, -0.00871617,  0.03636438,  0.03034455,\n",
       "         0.01207378, -0.00819029,  0.00458987, -0.00204033,  0.03354812,\n",
       "        -0.01369209,  0.00960434,  0.01232559, -0.02213036, -0.00430868,\n",
       "         0.02170846,  0.00766545,  0.02734256, -0.01696637,  0.02629153,\n",
       "        -0.00961626,  0.03634152, -0.00058529,  0.01331478,  0.0144085 ,\n",
       "         0.00097302,  0.00841751, -0.00164573,  0.00858217,  0.03565611,\n",
       "         0.03859422,  0.01713886,  0.00161261, -0.00362611, -0.00259131,\n",
       "         0.02047933,  0.04445355,  0.01877809,  0.00567541,  0.01542203,\n",
       "         0.03921545,  0.01810238, -0.02176557, -0.00605523, -0.00434389,\n",
       "         0.00507224, -0.00539628,  0.01093436, -0.00860773,  0.01532668,\n",
       "         0.01198459,  0.00058564,  0.01842092,  0.0272955 , -0.01474587,\n",
       "         0.01633897, -0.00355012, -0.02395967, -0.01381654,  0.01957808,\n",
       "        -0.009535  ,  0.01529791,  0.0071502 , -0.00854854,  0.01879836,\n",
       "         0.00692121,  0.03051373,  0.01335112, -0.00678345,  0.01302623,\n",
       "        -0.00913437, -0.00753638, -0.01172856,  0.00457315,  0.01962704,\n",
       "         0.00889537,  0.00237586, -0.00137932,  0.0345558 , -0.01408766,\n",
       "         0.01424815,  0.00907481,  0.01650433, -0.00569679, -0.01196808,\n",
       "         0.01408251,  0.00736977, -0.01928023,  0.00186343,  0.03975283,\n",
       "         0.02362561,  0.01862685,  0.03373298,  0.01306354,  0.03656662,\n",
       "        -0.00850044,  0.01717068, -0.00662711,  0.02735345,  0.00349255,\n",
       "         0.01247177,  0.01399025,  0.05249223,  0.02418815,  0.01955959,\n",
       "         0.00961251,  0.00349231,  0.00924448,  0.00998524, -0.00057682,\n",
       "         0.0038016 , -0.0089452 ,  0.0353765 , -0.01412907,  0.00502789,\n",
       "         0.00620062,  0.01978279,  0.00823205,  0.00397724,  0.02607387,\n",
       "         0.02534037, -0.01369973,  0.02894467, -0.00070087, -0.01065933,\n",
       "         0.02102745,  0.03579878, -0.02382304,  0.01906396,  0.02916694,\n",
       "         0.00232525,  0.02231749, -0.00172061,  0.00282582,  0.00594724,\n",
       "        -0.00231678,  0.01696809,  0.01624749, -0.00114668,  0.00440141,\n",
       "         0.00703408,  0.00180807,  0.01091461,  0.01806564,  0.00975429,\n",
       "         0.02496237,  0.03281263,  0.02795136,  0.04086241,  0.03098755,\n",
       "         0.00461365, -0.00948822,  0.01978914,  0.0340367 ,  0.0263013 ,\n",
       "         0.02505689,  0.01216382, -0.00654168, -0.02071428, -0.00696264,\n",
       "         0.0067325 , -0.01462282,  0.00034367,  0.00853587, -0.00545782,\n",
       "         0.01697668, -0.0109877 , -0.00038019,  0.05531758,  0.01834138,\n",
       "         0.05795075,  0.00810162,  0.01357424,  0.01878608,  0.02148085,\n",
       "         0.00461116,  0.00954807,  0.0130721 ,  0.0030924 ,  0.03123184,\n",
       "         0.03729357,  0.02160309, -0.00641974, -0.00311221,  0.00815486,\n",
       "         0.00447486,  0.01637154,  0.03609493,  0.03670205,  0.03800001,\n",
       "         0.01127172,  0.02061279,  0.00321401,  0.03987864,  0.02592166,\n",
       "        -0.01797327,  0.00469236,  0.02748429,  0.03956456,  0.02531115,\n",
       "        -0.00167192,  0.00485952,  0.0007867 ,  0.02084949,  0.02181449,\n",
       "        -0.01269034,  0.01012271,  0.01687117, -0.00360975,  0.01485009,\n",
       "         0.03158693,  0.01542166, -0.02065491, -0.00585236,  0.01853368,\n",
       "         0.01315437,  0.03982077,  0.02670208,  0.01468196,  0.00814121,\n",
       "         0.01650784,  0.06039318,  0.03535636,  0.03085788,  0.00575512,\n",
       "         0.00611238, -0.00311967,  0.00089484, -0.00828686,  0.02132395,\n",
       "         0.07397868,  0.04211387,  0.02305511, -0.02353175,  0.01364255,\n",
       "         0.00953414,  0.04988985, -0.00247763,  0.00513465, -0.02875975,\n",
       "         0.00497032,  0.03560128,  0.00967469, -0.01810819, -0.01007534],\n",
       "       dtype=float32)]"
      ]
     },
     "execution_count": 37,
     "metadata": {},
     "output_type": "execute_result"
    }
   ],
   "source": [
    "hidden1.get_weights()"
   ]
  },
  {
   "cell_type": "code",
   "execution_count": 38,
   "metadata": {
    "id": "EiK1lO1D1hMt"
   },
   "outputs": [],
   "source": [
    "weights, biases = hidden1.get_weights()"
   ]
  },
  {
   "cell_type": "code",
   "execution_count": 39,
   "metadata": {
    "colab": {
     "base_uri": "https://localhost:8080/"
    },
    "id": "uwaadY4M1j9-",
    "outputId": "34ac60d1-ba8f-4644-ac51-7de2771c63aa"
   },
   "outputs": [
    {
     "name": "stdout",
     "output_type": "stream",
     "text": [
      "shape\n",
      " (784, 300) \n",
      "\n"
     ]
    },
    {
     "data": {
      "text/plain": [
       "array([[-0.00337525,  0.04680152, -0.0027792 , ..., -0.04331146,\n",
       "        -0.00848648,  0.02632602],\n",
       "       [-0.0623063 ,  0.0344222 , -0.02540609, ...,  0.02310441,\n",
       "        -0.0304629 , -0.01527403],\n",
       "       [-0.05481648,  0.04066424, -0.06756051, ..., -0.03243021,\n",
       "        -0.03573782,  0.05663477],\n",
       "       ...,\n",
       "       [ 0.04900396, -0.05376239,  0.04527165, ...,  0.02890007,\n",
       "        -0.03782417,  0.06411266],\n",
       "       [ 0.0160949 ,  0.02424984,  0.0460298 , ..., -0.0727563 ,\n",
       "         0.07096827, -0.06588912],\n",
       "       [-0.01537065,  0.00623975,  0.05802488, ..., -0.06437115,\n",
       "        -0.02955531,  0.04688423]], dtype=float32)"
      ]
     },
     "execution_count": 39,
     "metadata": {},
     "output_type": "execute_result"
    }
   ],
   "source": [
    "print(\"shape\\n\",weights.shape, \"\\n\")\n",
    "weights"
   ]
  },
  {
   "cell_type": "code",
   "execution_count": 40,
   "metadata": {
    "colab": {
     "base_uri": "https://localhost:8080/"
    },
    "id": "ExppLUqR1mFG",
    "outputId": "89884a0e-34dd-42dc-ca4c-f5a894607266"
   },
   "outputs": [
    {
     "name": "stdout",
     "output_type": "stream",
     "text": [
      "shape\n",
      " (300,)\n"
     ]
    }
   ],
   "source": [
    "print(\"shape\\n\", biases.shape)"
   ]
  },
  {
   "cell_type": "code",
   "execution_count": 41,
   "metadata": {},
   "outputs": [
    {
     "data": {
      "text/plain": [
       "array([ 0.00943877,  0.0333755 , -0.00035687,  0.00160663,  0.0075421 ,\n",
       "       -0.00771492, -0.00865108,  0.00880173,  0.01975842,  0.01847633,\n",
       "       -0.00395173,  0.00821226,  0.01578517, -0.01039199,  0.01000969,\n",
       "        0.03534034,  0.0126928 ,  0.03345712, -0.00204022,  0.02353751,\n",
       "        0.03765342,  0.01074814,  0.00199685, -0.00828412,  0.00770157,\n",
       "        0.00892328,  0.01952746, -0.00465752,  0.00460187, -0.00859253,\n",
       "       -0.00380979,  0.00712739,  0.01130609, -0.00276677,  0.00450734,\n",
       "       -0.00839777,  0.00415098,  0.01245072,  0.009259  ,  0.00974506,\n",
       "        0.0066542 ,  0.00786686,  0.01834623, -0.01937916, -0.01690545,\n",
       "       -0.00256163,  0.03901243,  0.01320825,  0.0030586 ,  0.01082504,\n",
       "        0.01984934,  0.02335319, -0.00525453, -0.00171857,  0.00468802,\n",
       "        0.00489406,  0.00350754, -0.00871617,  0.03636438,  0.03034455,\n",
       "        0.01207378, -0.00819029,  0.00458987, -0.00204033,  0.03354812,\n",
       "       -0.01369209,  0.00960434,  0.01232559, -0.02213036, -0.00430868,\n",
       "        0.02170846,  0.00766545,  0.02734256, -0.01696637,  0.02629153,\n",
       "       -0.00961626,  0.03634152, -0.00058529,  0.01331478,  0.0144085 ,\n",
       "        0.00097302,  0.00841751, -0.00164573,  0.00858217,  0.03565611,\n",
       "        0.03859422,  0.01713886,  0.00161261, -0.00362611, -0.00259131,\n",
       "        0.02047933,  0.04445355,  0.01877809,  0.00567541,  0.01542203,\n",
       "        0.03921545,  0.01810238, -0.02176557, -0.00605523, -0.00434389,\n",
       "        0.00507224, -0.00539628,  0.01093436, -0.00860773,  0.01532668,\n",
       "        0.01198459,  0.00058564,  0.01842092,  0.0272955 , -0.01474587,\n",
       "        0.01633897, -0.00355012, -0.02395967, -0.01381654,  0.01957808,\n",
       "       -0.009535  ,  0.01529791,  0.0071502 , -0.00854854,  0.01879836,\n",
       "        0.00692121,  0.03051373,  0.01335112, -0.00678345,  0.01302623,\n",
       "       -0.00913437, -0.00753638, -0.01172856,  0.00457315,  0.01962704,\n",
       "        0.00889537,  0.00237586, -0.00137932,  0.0345558 , -0.01408766,\n",
       "        0.01424815,  0.00907481,  0.01650433, -0.00569679, -0.01196808,\n",
       "        0.01408251,  0.00736977, -0.01928023,  0.00186343,  0.03975283,\n",
       "        0.02362561,  0.01862685,  0.03373298,  0.01306354,  0.03656662,\n",
       "       -0.00850044,  0.01717068, -0.00662711,  0.02735345,  0.00349255,\n",
       "        0.01247177,  0.01399025,  0.05249223,  0.02418815,  0.01955959,\n",
       "        0.00961251,  0.00349231,  0.00924448,  0.00998524, -0.00057682,\n",
       "        0.0038016 , -0.0089452 ,  0.0353765 , -0.01412907,  0.00502789,\n",
       "        0.00620062,  0.01978279,  0.00823205,  0.00397724,  0.02607387,\n",
       "        0.02534037, -0.01369973,  0.02894467, -0.00070087, -0.01065933,\n",
       "        0.02102745,  0.03579878, -0.02382304,  0.01906396,  0.02916694,\n",
       "        0.00232525,  0.02231749, -0.00172061,  0.00282582,  0.00594724,\n",
       "       -0.00231678,  0.01696809,  0.01624749, -0.00114668,  0.00440141,\n",
       "        0.00703408,  0.00180807,  0.01091461,  0.01806564,  0.00975429,\n",
       "        0.02496237,  0.03281263,  0.02795136,  0.04086241,  0.03098755,\n",
       "        0.00461365, -0.00948822,  0.01978914,  0.0340367 ,  0.0263013 ,\n",
       "        0.02505689,  0.01216382, -0.00654168, -0.02071428, -0.00696264,\n",
       "        0.0067325 , -0.01462282,  0.00034367,  0.00853587, -0.00545782,\n",
       "        0.01697668, -0.0109877 , -0.00038019,  0.05531758,  0.01834138,\n",
       "        0.05795075,  0.00810162,  0.01357424,  0.01878608,  0.02148085,\n",
       "        0.00461116,  0.00954807,  0.0130721 ,  0.0030924 ,  0.03123184,\n",
       "        0.03729357,  0.02160309, -0.00641974, -0.00311221,  0.00815486,\n",
       "        0.00447486,  0.01637154,  0.03609493,  0.03670205,  0.03800001,\n",
       "        0.01127172,  0.02061279,  0.00321401,  0.03987864,  0.02592166,\n",
       "       -0.01797327,  0.00469236,  0.02748429,  0.03956456,  0.02531115,\n",
       "       -0.00167192,  0.00485952,  0.0007867 ,  0.02084949,  0.02181449,\n",
       "       -0.01269034,  0.01012271,  0.01687117, -0.00360975,  0.01485009,\n",
       "        0.03158693,  0.01542166, -0.02065491, -0.00585236,  0.01853368,\n",
       "        0.01315437,  0.03982077,  0.02670208,  0.01468196,  0.00814121,\n",
       "        0.01650784,  0.06039318,  0.03535636,  0.03085788,  0.00575512,\n",
       "        0.00611238, -0.00311967,  0.00089484, -0.00828686,  0.02132395,\n",
       "        0.07397868,  0.04211387,  0.02305511, -0.02353175,  0.01364255,\n",
       "        0.00953414,  0.04988985, -0.00247763,  0.00513465, -0.02875975,\n",
       "        0.00497032,  0.03560128,  0.00967469, -0.01810819, -0.01007534],\n",
       "      dtype=float32)"
      ]
     },
     "execution_count": 41,
     "metadata": {},
     "output_type": "execute_result"
    }
   ],
   "source": [
    "biases"
   ]
  },
  {
   "cell_type": "code",
   "execution_count": 42,
   "metadata": {
    "id": "MRj-5WMP1poj"
   },
   "outputs": [],
   "source": [
    "LOSS_FUNCTION = \"sparse_categorical_crossentropy\" # use => tf.losses.sparse_categorical_crossentropy\n",
    "OPTIMIZER = \"SGD\" # or use with custom learning rate=> tf.keras.optimizers.SGD(0.02)\n",
    "METRICS = [\"accuracy\"]\n",
    "\n",
    "model_clf.compile(loss=LOSS_FUNCTION,\n",
    "              optimizer=OPTIMIZER,\n",
    "              metrics=METRICS)\n"
   ]
  },
  {
   "cell_type": "code",
   "execution_count": 43,
   "metadata": {
    "colab": {
     "base_uri": "https://localhost:8080/"
    },
    "id": "kXY9Zk511xVX",
    "outputId": "424df7e3-6c54-4935-cc66-9d24d7b652fc"
   },
   "outputs": [
    {
     "name": "stdout",
     "output_type": "stream",
     "text": [
      "Epoch 1/30\n",
      "1719/1719 [==============================] - 6s 3ms/step - loss: 0.1022 - accuracy: 0.9712 - val_loss: 0.1100 - val_accuracy: 0.9682\n",
      "Epoch 2/30\n",
      "1719/1719 [==============================] - 6s 3ms/step - loss: 0.0936 - accuracy: 0.9745 - val_loss: 0.1026 - val_accuracy: 0.9702\n",
      "Epoch 3/30\n",
      "1719/1719 [==============================] - 6s 3ms/step - loss: 0.0868 - accuracy: 0.9759 - val_loss: 0.0968 - val_accuracy: 0.9736\n",
      "Epoch 4/30\n",
      "1719/1719 [==============================] - 5s 3ms/step - loss: 0.0800 - accuracy: 0.9781 - val_loss: 0.0922 - val_accuracy: 0.9746\n",
      "Epoch 5/30\n",
      "1719/1719 [==============================] - 6s 4ms/step - loss: 0.0739 - accuracy: 0.9801 - val_loss: 0.0898 - val_accuracy: 0.9754\n",
      "Epoch 6/30\n",
      "1719/1719 [==============================] - 5s 3ms/step - loss: 0.0690 - accuracy: 0.9807 - val_loss: 0.0879 - val_accuracy: 0.9752\n",
      "Epoch 7/30\n",
      "1719/1719 [==============================] - 6s 3ms/step - loss: 0.0643 - accuracy: 0.9824 - val_loss: 0.0842 - val_accuracy: 0.9768\n",
      "Epoch 8/30\n",
      "1719/1719 [==============================] - 6s 3ms/step - loss: 0.0599 - accuracy: 0.9841 - val_loss: 0.0805 - val_accuracy: 0.9774\n",
      "Epoch 9/30\n",
      "1719/1719 [==============================] - 6s 4ms/step - loss: 0.0560 - accuracy: 0.9850 - val_loss: 0.0811 - val_accuracy: 0.9772\n",
      "Epoch 10/30\n",
      "1719/1719 [==============================] - 5s 3ms/step - loss: 0.0523 - accuracy: 0.9865 - val_loss: 0.0765 - val_accuracy: 0.9788\n",
      "Epoch 11/30\n",
      "1719/1719 [==============================] - 5s 3ms/step - loss: 0.0491 - accuracy: 0.9870 - val_loss: 0.0769 - val_accuracy: 0.9784\n",
      "Epoch 12/30\n",
      "1719/1719 [==============================] - 5s 3ms/step - loss: 0.0462 - accuracy: 0.9876 - val_loss: 0.0748 - val_accuracy: 0.9790\n",
      "Epoch 13/30\n",
      "1719/1719 [==============================] - 5s 3ms/step - loss: 0.0436 - accuracy: 0.9885 - val_loss: 0.0720 - val_accuracy: 0.9794\n",
      "Epoch 14/30\n",
      "1719/1719 [==============================] - 5s 3ms/step - loss: 0.0407 - accuracy: 0.9897 - val_loss: 0.0720 - val_accuracy: 0.9800\n",
      "Epoch 15/30\n",
      "1719/1719 [==============================] - 5s 3ms/step - loss: 0.0384 - accuracy: 0.9902 - val_loss: 0.0731 - val_accuracy: 0.9786\n",
      "Epoch 16/30\n",
      "1719/1719 [==============================] - 5s 3ms/step - loss: 0.0362 - accuracy: 0.9912 - val_loss: 0.0692 - val_accuracy: 0.9802\n",
      "Epoch 17/30\n",
      "1719/1719 [==============================] - 5s 3ms/step - loss: 0.0339 - accuracy: 0.9917 - val_loss: 0.0697 - val_accuracy: 0.9784\n",
      "Epoch 18/30\n",
      "1719/1719 [==============================] - 5s 3ms/step - loss: 0.0322 - accuracy: 0.9926 - val_loss: 0.0702 - val_accuracy: 0.9792\n",
      "Epoch 19/30\n",
      "1719/1719 [==============================] - 5s 3ms/step - loss: 0.0303 - accuracy: 0.9928 - val_loss: 0.0691 - val_accuracy: 0.9792\n",
      "Epoch 20/30\n",
      "1719/1719 [==============================] - 5s 3ms/step - loss: 0.0284 - accuracy: 0.9932 - val_loss: 0.0678 - val_accuracy: 0.9804\n",
      "Epoch 21/30\n",
      "1719/1719 [==============================] - 5s 3ms/step - loss: 0.0269 - accuracy: 0.9938 - val_loss: 0.0686 - val_accuracy: 0.9812\n",
      "Epoch 22/30\n",
      "1719/1719 [==============================] - 5s 3ms/step - loss: 0.0253 - accuracy: 0.9941 - val_loss: 0.0664 - val_accuracy: 0.9806\n",
      "Epoch 23/30\n",
      "1719/1719 [==============================] - 5s 3ms/step - loss: 0.0240 - accuracy: 0.9951 - val_loss: 0.0671 - val_accuracy: 0.9816\n",
      "Epoch 24/30\n",
      "1719/1719 [==============================] - 5s 3ms/step - loss: 0.0229 - accuracy: 0.9954 - val_loss: 0.0660 - val_accuracy: 0.9808\n",
      "Epoch 25/30\n",
      "1719/1719 [==============================] - 5s 3ms/step - loss: 0.0215 - accuracy: 0.9957 - val_loss: 0.0646 - val_accuracy: 0.9816\n",
      "Epoch 26/30\n",
      "1719/1719 [==============================] - 5s 3ms/step - loss: 0.0204 - accuracy: 0.9962 - val_loss: 0.0646 - val_accuracy: 0.9818\n",
      "Epoch 27/30\n",
      "1719/1719 [==============================] - 5s 3ms/step - loss: 0.0193 - accuracy: 0.9964 - val_loss: 0.0645 - val_accuracy: 0.9820\n",
      "Epoch 28/30\n",
      "1719/1719 [==============================] - 5s 3ms/step - loss: 0.0182 - accuracy: 0.9968 - val_loss: 0.0663 - val_accuracy: 0.9812\n",
      "Epoch 29/30\n",
      "1719/1719 [==============================] - 5s 3ms/step - loss: 0.0175 - accuracy: 0.9970 - val_loss: 0.0634 - val_accuracy: 0.9818\n",
      "Epoch 30/30\n",
      "1719/1719 [==============================] - 5s 3ms/step - loss: 0.0165 - accuracy: 0.9972 - val_loss: 0.0643 - val_accuracy: 0.9808\n"
     ]
    }
   ],
   "source": [
    "# training\n",
    "\n",
    "EPOCHS = 30\n",
    "VALIDATION_SET = (X_valid, y_valid)\n",
    "\n",
    "history = model_clf.fit(X_train, y_train, epochs=EPOCHS,\n",
    "                    validation_data=VALIDATION_SET, batch_size=32)\n"
   ]
  },
  {
   "cell_type": "code",
   "execution_count": 44,
   "metadata": {
    "colab": {
     "base_uri": "https://localhost:8080/"
    },
    "id": "EKq756Wr2Nhq",
    "outputId": "9bcaa1cc-142e-4409-956c-46ab7f6525c7"
   },
   "outputs": [
    {
     "data": {
      "text/plain": [
       "{'verbose': 1, 'epochs': 30, 'steps': 1719}"
      ]
     },
     "execution_count": 44,
     "metadata": {},
     "output_type": "execute_result"
    }
   ],
   "source": [
    "history.params"
   ]
  },
  {
   "cell_type": "code",
   "execution_count": 45,
   "metadata": {
    "colab": {
     "base_uri": "https://localhost:8080/",
     "height": 986
    },
    "id": "le6Tw9LR20IP",
    "outputId": "ad8c5b55-09fa-4971-d9c1-196c2730950d"
   },
   "outputs": [
    {
     "data": {
      "text/html": [
       "<div>\n",
       "<style scoped>\n",
       "    .dataframe tbody tr th:only-of-type {\n",
       "        vertical-align: middle;\n",
       "    }\n",
       "\n",
       "    .dataframe tbody tr th {\n",
       "        vertical-align: top;\n",
       "    }\n",
       "\n",
       "    .dataframe thead th {\n",
       "        text-align: right;\n",
       "    }\n",
       "</style>\n",
       "<table border=\"1\" class=\"dataframe\">\n",
       "  <thead>\n",
       "    <tr style=\"text-align: right;\">\n",
       "      <th></th>\n",
       "      <th>loss</th>\n",
       "      <th>accuracy</th>\n",
       "      <th>val_loss</th>\n",
       "      <th>val_accuracy</th>\n",
       "    </tr>\n",
       "  </thead>\n",
       "  <tbody>\n",
       "    <tr>\n",
       "      <th>0</th>\n",
       "      <td>0.102194</td>\n",
       "      <td>0.971236</td>\n",
       "      <td>0.109962</td>\n",
       "      <td>0.9682</td>\n",
       "    </tr>\n",
       "    <tr>\n",
       "      <th>1</th>\n",
       "      <td>0.093643</td>\n",
       "      <td>0.974545</td>\n",
       "      <td>0.102611</td>\n",
       "      <td>0.9702</td>\n",
       "    </tr>\n",
       "    <tr>\n",
       "      <th>2</th>\n",
       "      <td>0.086773</td>\n",
       "      <td>0.975873</td>\n",
       "      <td>0.096801</td>\n",
       "      <td>0.9736</td>\n",
       "    </tr>\n",
       "    <tr>\n",
       "      <th>3</th>\n",
       "      <td>0.079995</td>\n",
       "      <td>0.978055</td>\n",
       "      <td>0.092246</td>\n",
       "      <td>0.9746</td>\n",
       "    </tr>\n",
       "    <tr>\n",
       "      <th>4</th>\n",
       "      <td>0.073903</td>\n",
       "      <td>0.980145</td>\n",
       "      <td>0.089836</td>\n",
       "      <td>0.9754</td>\n",
       "    </tr>\n",
       "    <tr>\n",
       "      <th>5</th>\n",
       "      <td>0.068986</td>\n",
       "      <td>0.980727</td>\n",
       "      <td>0.087900</td>\n",
       "      <td>0.9752</td>\n",
       "    </tr>\n",
       "    <tr>\n",
       "      <th>6</th>\n",
       "      <td>0.064308</td>\n",
       "      <td>0.982400</td>\n",
       "      <td>0.084181</td>\n",
       "      <td>0.9768</td>\n",
       "    </tr>\n",
       "    <tr>\n",
       "      <th>7</th>\n",
       "      <td>0.059872</td>\n",
       "      <td>0.984127</td>\n",
       "      <td>0.080511</td>\n",
       "      <td>0.9774</td>\n",
       "    </tr>\n",
       "    <tr>\n",
       "      <th>8</th>\n",
       "      <td>0.056031</td>\n",
       "      <td>0.985018</td>\n",
       "      <td>0.081120</td>\n",
       "      <td>0.9772</td>\n",
       "    </tr>\n",
       "    <tr>\n",
       "      <th>9</th>\n",
       "      <td>0.052327</td>\n",
       "      <td>0.986509</td>\n",
       "      <td>0.076500</td>\n",
       "      <td>0.9788</td>\n",
       "    </tr>\n",
       "    <tr>\n",
       "      <th>10</th>\n",
       "      <td>0.049138</td>\n",
       "      <td>0.986982</td>\n",
       "      <td>0.076943</td>\n",
       "      <td>0.9784</td>\n",
       "    </tr>\n",
       "    <tr>\n",
       "      <th>11</th>\n",
       "      <td>0.046214</td>\n",
       "      <td>0.987618</td>\n",
       "      <td>0.074818</td>\n",
       "      <td>0.9790</td>\n",
       "    </tr>\n",
       "    <tr>\n",
       "      <th>12</th>\n",
       "      <td>0.043561</td>\n",
       "      <td>0.988473</td>\n",
       "      <td>0.072045</td>\n",
       "      <td>0.9794</td>\n",
       "    </tr>\n",
       "    <tr>\n",
       "      <th>13</th>\n",
       "      <td>0.040686</td>\n",
       "      <td>0.989727</td>\n",
       "      <td>0.072041</td>\n",
       "      <td>0.9800</td>\n",
       "    </tr>\n",
       "    <tr>\n",
       "      <th>14</th>\n",
       "      <td>0.038377</td>\n",
       "      <td>0.990182</td>\n",
       "      <td>0.073088</td>\n",
       "      <td>0.9786</td>\n",
       "    </tr>\n",
       "    <tr>\n",
       "      <th>15</th>\n",
       "      <td>0.036167</td>\n",
       "      <td>0.991164</td>\n",
       "      <td>0.069162</td>\n",
       "      <td>0.9802</td>\n",
       "    </tr>\n",
       "    <tr>\n",
       "      <th>16</th>\n",
       "      <td>0.033882</td>\n",
       "      <td>0.991709</td>\n",
       "      <td>0.069678</td>\n",
       "      <td>0.9784</td>\n",
       "    </tr>\n",
       "    <tr>\n",
       "      <th>17</th>\n",
       "      <td>0.032152</td>\n",
       "      <td>0.992600</td>\n",
       "      <td>0.070204</td>\n",
       "      <td>0.9792</td>\n",
       "    </tr>\n",
       "    <tr>\n",
       "      <th>18</th>\n",
       "      <td>0.030286</td>\n",
       "      <td>0.992836</td>\n",
       "      <td>0.069087</td>\n",
       "      <td>0.9792</td>\n",
       "    </tr>\n",
       "    <tr>\n",
       "      <th>19</th>\n",
       "      <td>0.028388</td>\n",
       "      <td>0.993236</td>\n",
       "      <td>0.067775</td>\n",
       "      <td>0.9804</td>\n",
       "    </tr>\n",
       "    <tr>\n",
       "      <th>20</th>\n",
       "      <td>0.026890</td>\n",
       "      <td>0.993836</td>\n",
       "      <td>0.068610</td>\n",
       "      <td>0.9812</td>\n",
       "    </tr>\n",
       "    <tr>\n",
       "      <th>21</th>\n",
       "      <td>0.025344</td>\n",
       "      <td>0.994127</td>\n",
       "      <td>0.066436</td>\n",
       "      <td>0.9806</td>\n",
       "    </tr>\n",
       "    <tr>\n",
       "      <th>22</th>\n",
       "      <td>0.023983</td>\n",
       "      <td>0.995055</td>\n",
       "      <td>0.067135</td>\n",
       "      <td>0.9816</td>\n",
       "    </tr>\n",
       "    <tr>\n",
       "      <th>23</th>\n",
       "      <td>0.022925</td>\n",
       "      <td>0.995436</td>\n",
       "      <td>0.065982</td>\n",
       "      <td>0.9808</td>\n",
       "    </tr>\n",
       "    <tr>\n",
       "      <th>24</th>\n",
       "      <td>0.021459</td>\n",
       "      <td>0.995673</td>\n",
       "      <td>0.064621</td>\n",
       "      <td>0.9816</td>\n",
       "    </tr>\n",
       "    <tr>\n",
       "      <th>25</th>\n",
       "      <td>0.020414</td>\n",
       "      <td>0.996200</td>\n",
       "      <td>0.064568</td>\n",
       "      <td>0.9818</td>\n",
       "    </tr>\n",
       "    <tr>\n",
       "      <th>26</th>\n",
       "      <td>0.019274</td>\n",
       "      <td>0.996382</td>\n",
       "      <td>0.064496</td>\n",
       "      <td>0.9820</td>\n",
       "    </tr>\n",
       "    <tr>\n",
       "      <th>27</th>\n",
       "      <td>0.018231</td>\n",
       "      <td>0.996782</td>\n",
       "      <td>0.066272</td>\n",
       "      <td>0.9812</td>\n",
       "    </tr>\n",
       "    <tr>\n",
       "      <th>28</th>\n",
       "      <td>0.017461</td>\n",
       "      <td>0.997036</td>\n",
       "      <td>0.063420</td>\n",
       "      <td>0.9818</td>\n",
       "    </tr>\n",
       "    <tr>\n",
       "      <th>29</th>\n",
       "      <td>0.016485</td>\n",
       "      <td>0.997236</td>\n",
       "      <td>0.064285</td>\n",
       "      <td>0.9808</td>\n",
       "    </tr>\n",
       "  </tbody>\n",
       "</table>\n",
       "</div>"
      ],
      "text/plain": [
       "        loss  accuracy  val_loss  val_accuracy\n",
       "0   0.102194  0.971236  0.109962        0.9682\n",
       "1   0.093643  0.974545  0.102611        0.9702\n",
       "2   0.086773  0.975873  0.096801        0.9736\n",
       "3   0.079995  0.978055  0.092246        0.9746\n",
       "4   0.073903  0.980145  0.089836        0.9754\n",
       "5   0.068986  0.980727  0.087900        0.9752\n",
       "6   0.064308  0.982400  0.084181        0.9768\n",
       "7   0.059872  0.984127  0.080511        0.9774\n",
       "8   0.056031  0.985018  0.081120        0.9772\n",
       "9   0.052327  0.986509  0.076500        0.9788\n",
       "10  0.049138  0.986982  0.076943        0.9784\n",
       "11  0.046214  0.987618  0.074818        0.9790\n",
       "12  0.043561  0.988473  0.072045        0.9794\n",
       "13  0.040686  0.989727  0.072041        0.9800\n",
       "14  0.038377  0.990182  0.073088        0.9786\n",
       "15  0.036167  0.991164  0.069162        0.9802\n",
       "16  0.033882  0.991709  0.069678        0.9784\n",
       "17  0.032152  0.992600  0.070204        0.9792\n",
       "18  0.030286  0.992836  0.069087        0.9792\n",
       "19  0.028388  0.993236  0.067775        0.9804\n",
       "20  0.026890  0.993836  0.068610        0.9812\n",
       "21  0.025344  0.994127  0.066436        0.9806\n",
       "22  0.023983  0.995055  0.067135        0.9816\n",
       "23  0.022925  0.995436  0.065982        0.9808\n",
       "24  0.021459  0.995673  0.064621        0.9816\n",
       "25  0.020414  0.996200  0.064568        0.9818\n",
       "26  0.019274  0.996382  0.064496        0.9820\n",
       "27  0.018231  0.996782  0.066272        0.9812\n",
       "28  0.017461  0.997036  0.063420        0.9818\n",
       "29  0.016485  0.997236  0.064285        0.9808"
      ]
     },
     "execution_count": 45,
     "metadata": {},
     "output_type": "execute_result"
    }
   ],
   "source": [
    "pd.DataFrame(history.history)"
   ]
  },
  {
   "cell_type": "code",
   "execution_count": 46,
   "metadata": {
    "colab": {
     "base_uri": "https://localhost:8080/",
     "height": 283
    },
    "id": "LxQHr9ra236P",
    "outputId": "da869e11-86c7-4230-e82b-e1a4103098fc"
   },
   "outputs": [
    {
     "data": {
      "text/plain": [
       "<Axes: >"
      ]
     },
     "execution_count": 46,
     "metadata": {},
     "output_type": "execute_result"
    },
    {
     "data": {
      "image/png": "[encoded data removed]",
      "text/plain": [
       "<Figure size 640x480 with 1 Axes>"
      ]
     },
     "metadata": {},
     "output_type": "display_data"
    }
   ],
   "source": [
    "pd.DataFrame(history.history).plot()"
   ]
  },
  {
   "cell_type": "code",
   "execution_count": 47,
   "metadata": {
    "colab": {
     "base_uri": "https://localhost:8080/"
    },
    "id": "qI9hBbze26iJ",
    "outputId": "8b047139-7f60-47c0-f4b6-e5462ce67c79"
   },
   "outputs": [
    {
     "name": "stdout",
     "output_type": "stream",
     "text": [
      "313/313 [==============================] - 1s 2ms/step - loss: 14.9385 - accuracy: 0.9746\n"
     ]
    },
    {
     "data": {
      "text/plain": [
       "[14.938530921936035, 0.9746000170707703]"
      ]
     },
     "execution_count": 47,
     "metadata": {},
     "output_type": "execute_result"
    }
   ],
   "source": [
    "model_clf.evaluate(X_test, y_test)"
   ]
  },
  {
   "cell_type": "code",
   "execution_count": 49,
   "metadata": {
    "id": "AeGDSES629TB"
   },
   "outputs": [
    {
     "data": {
      "text/plain": [
       "array([[[0, 0, 0, ..., 0, 0, 0],\n",
       "        [0, 0, 0, ..., 0, 0, 0],\n",
       "        [0, 0, 0, ..., 0, 0, 0],\n",
       "        ...,\n",
       "        [0, 0, 0, ..., 0, 0, 0],\n",
       "        [0, 0, 0, ..., 0, 0, 0],\n",
       "        [0, 0, 0, ..., 0, 0, 0]],\n",
       "\n",
       "       [[0, 0, 0, ..., 0, 0, 0],\n",
       "        [0, 0, 0, ..., 0, 0, 0],\n",
       "        [0, 0, 0, ..., 0, 0, 0],\n",
       "        ...,\n",
       "        [0, 0, 0, ..., 0, 0, 0],\n",
       "        [0, 0, 0, ..., 0, 0, 0],\n",
       "        [0, 0, 0, ..., 0, 0, 0]],\n",
       "\n",
       "       [[0, 0, 0, ..., 0, 0, 0],\n",
       "        [0, 0, 0, ..., 0, 0, 0],\n",
       "        [0, 0, 0, ..., 0, 0, 0],\n",
       "        ...,\n",
       "        [0, 0, 0, ..., 0, 0, 0],\n",
       "        [0, 0, 0, ..., 0, 0, 0],\n",
       "        [0, 0, 0, ..., 0, 0, 0]]], dtype=uint8)"
      ]
     },
     "execution_count": 49,
     "metadata": {},
     "output_type": "execute_result"
    }
   ],
   "source": [
    "x_new = X_test[:3]\n",
    "x_new"
   ]
  },
  {
   "cell_type": "code",
   "execution_count": 50,
   "metadata": {
    "colab": {
     "base_uri": "https://localhost:8080/"
    },
    "id": "RpIuW5e43AFv",
    "outputId": "c85b9668-3256-43d6-d63a-3b4868952551"
   },
   "outputs": [
    {
     "data": {
      "text/plain": [
       "array([7, 2, 1], dtype=uint8)"
      ]
     },
     "execution_count": 50,
     "metadata": {},
     "output_type": "execute_result"
    }
   ],
   "source": [
    "actual = y_test[:3]\n",
    "actual"
   ]
  },
  {
   "cell_type": "code",
   "execution_count": 51,
   "metadata": {
    "colab": {
     "base_uri": "https://localhost:8080/"
    },
    "id": "BzDXCMrZ3FeN",
    "outputId": "e0cef512-1c06-4dd0-b3b0-3d2a8a9996bc"
   },
   "outputs": [
    {
     "name": "stdout",
     "output_type": "stream",
     "text": [
      "1/1 [==============================] - 0s 158ms/step\n"
     ]
    },
    {
     "data": {
      "text/plain": [
       "array([[0., 0., 0., 0., 0., 0., 0., 1., 0., 0.],\n",
       "       [0., 0., 1., 0., 0., 0., 0., 0., 0., 0.],\n",
       "       [0., 1., 0., 0., 0., 0., 0., 0., 0., 0.]], dtype=float32)"
      ]
     },
     "execution_count": 51,
     "metadata": {},
     "output_type": "execute_result"
    }
   ],
   "source": [
    "y_prob = model_clf.predict(x_new)\n",
    "y_prob.round(3)"
   ]
  },
  {
   "cell_type": "code",
   "execution_count": 52,
   "metadata": {
    "colab": {
     "base_uri": "https://localhost:8080/"
    },
    "id": "Ls3-bY-c3ICH",
    "outputId": "6cefcea6-a294-4392-b8b9-9ef243c3bada"
   },
   "outputs": [
    {
     "data": {
      "text/plain": [
       "array([[0., 0., 0., 0., 0., 0., 0., 1., 0., 0.],\n",
       "       [0., 0., 1., 0., 0., 0., 0., 0., 0., 0.],\n",
       "       [0., 1., 0., 0., 0., 0., 0., 0., 0., 0.]], dtype=float32)"
      ]
     },
     "execution_count": 52,
     "metadata": {},
     "output_type": "execute_result"
    }
   ],
   "source": [
    "y_prob"
   ]
  },
  {
   "cell_type": "code",
   "execution_count": 53,
   "metadata": {
    "id": "R9Z_1Jjb3LJK"
   },
   "outputs": [],
   "source": [
    "y_pred = np.argmax(y_prob, axis = -1)"
   ]
  },
  {
   "cell_type": "code",
   "execution_count": 54,
   "metadata": {
    "colab": {
     "base_uri": "https://localhost:8080/"
    },
    "id": "slkhjxIM3OdH",
    "outputId": "98627e34-3d71-4c22-b708-170258b0a4bd"
   },
   "outputs": [
    {
     "data": {
      "text/plain": [
       "array([7, 2, 1], dtype=int64)"
      ]
     },
     "execution_count": 54,
     "metadata": {},
     "output_type": "execute_result"
    }
   ],
   "source": [
    "y_pred"
   ]
  },
  {
   "cell_type": "code",
   "execution_count": 55,
   "metadata": {
    "colab": {
     "base_uri": "https://localhost:8080/"
    },
    "id": "QaKF_MPo3QvD",
    "outputId": "3c31b56d-1435-47b6-9e58-e41d517985bc"
   },
   "outputs": [
    {
     "data": {
      "text/plain": [
       "array([7, 2, 1], dtype=uint8)"
      ]
     },
     "execution_count": 55,
     "metadata": {},
     "output_type": "execute_result"
    }
   ],
   "source": [
    "actual"
   ]
  },
  {
   "cell_type": "code",
   "execution_count": 56,
   "metadata": {
    "colab": {
     "base_uri": "https://localhost:8080/",
     "height": 813
    },
    "id": "ER_8dhBT3R20",
    "outputId": "a36d4d20-41e1-47c1-9584-0580643e50a3"
   },
   "outputs": [
    {
     "data": {
      "image/png": "[encoded data removed]",
      "text/plain": [
       "<Figure size 640x480 with 1 Axes>"
      ]
     },
     "metadata": {},
     "output_type": "display_data"
    },
    {
     "name": "stdout",
     "output_type": "stream",
     "text": [
      "######################\n"
     ]
    },
    {
     "data": {
      "image/png": "[encoded data removed]",
      "text/plain": [
       "<Figure size 640x480 with 1 Axes>"
      ]
     },
     "metadata": {},
     "output_type": "display_data"
    },
    {
     "name": "stdout",
     "output_type": "stream",
     "text": [
      "######################\n"
     ]
    },
    {
     "data": {
      "image/png": "[encoded data removed]",
      "text/plain": [
       "<Figure size 640x480 with 1 Axes>"
      ]
     },
     "metadata": {},
     "output_type": "display_data"
    },
    {
     "name": "stdout",
     "output_type": "stream",
     "text": [
      "######################\n"
     ]
    }
   ],
   "source": [
    "# plot\n",
    "for data, pred, actual_data in zip(x_new, y_pred, actual):\n",
    "  plt.imshow(data, cmap=\"binary\")\n",
    "  plt.title(f\"Predicted {pred} and Actual {actual_data}\")\n",
    "  plt.axis(\"off\")\n",
    "  plt.show() \n",
    "  print(\"######################\")"
   ]
  }
 ],
 "metadata": {
  "accelerator": "GPU",
  "colab": {
   "provenance": []
  },
  "kernelspec": {
   "display_name": "Python 3 (ipykernel)",
   "language": "python",
   "name": "python3"
  },
  "language_info": {
   "codemirror_mode": {
    "name": "ipython",
    "version": 3
   },
   "file_extension": ".py",
   "mimetype": "text/x-python",
   "name": "python",
   "nbconvert_exporter": "python",
   "pygments_lexer": "ipython3",
   "version": "3.10.9"
  }
 },
 "nbformat": 4,
 "nbformat_minor": 1
}
