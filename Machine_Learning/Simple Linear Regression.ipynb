{
 "cells": [
  {
   "cell_type": "markdown",
   "id": "866fa7c7-cd00-43a5-8160-a2f88fcf0b92",
   "metadata": {},
   "source": [
    "## Simple Linear Regression"
   ]
  },
  {
   "cell_type": "markdown",
   "id": "49d71977-dde5-4316-90c5-c651dcb987ce",
   "metadata": {},
   "source": [
    "### AIM\n",
    "- Here my aim is to train my model to predict Height based on Weight as a input\n",
    "- As here i have only one independent input variabloe so it is Simple Linear Regression\n",
    "- Also it can be classified under Supervised Regression Model as i have dataset here based on which i am going to tain my model"
   ]
  },
  {
   "cell_type": "code",
   "execution_count": 1,
   "id": "e34ab10e-7658-44d2-943b-e11caf2fda52",
   "metadata": {},
   "outputs": [],
   "source": [
    "import pandas as pd\n",
    "import numpy as np"
   ]
  },
  {
   "cell_type": "code",
   "execution_count": 2,
   "id": "d40becaf-3b52-43a7-8bd1-237ef7c09570",
   "metadata": {},
   "outputs": [],
   "source": [
    "df=pd.read_csv('height-weight.csv')"
   ]
  },
  {
   "cell_type": "code",
   "execution_count": 3,
   "id": "8d0f6604-b27d-4c65-9ac6-f2ebd8453423",
   "metadata": {},
   "outputs": [
    {
     "data": {
      "text/html": [
       "<div>\n",
       "<style scoped>\n",
       "    .dataframe tbody tr th:only-of-type {\n",
       "        vertical-align: middle;\n",
       "    }\n",
       "\n",
       "    .dataframe tbody tr th {\n",
       "        vertical-align: top;\n",
       "    }\n",
       "\n",
       "    .dataframe thead th {\n",
       "        text-align: right;\n",
       "    }\n",
       "</style>\n",
       "<table border=\"1\" class=\"dataframe\">\n",
       "  <thead>\n",
       "    <tr style=\"text-align: right;\">\n",
       "      <th></th>\n",
       "      <th>Weight</th>\n",
       "      <th>Height</th>\n",
       "    </tr>\n",
       "  </thead>\n",
       "  <tbody>\n",
       "    <tr>\n",
       "      <th>0</th>\n",
       "      <td>45</td>\n",
       "      <td>120</td>\n",
       "    </tr>\n",
       "    <tr>\n",
       "      <th>1</th>\n",
       "      <td>58</td>\n",
       "      <td>135</td>\n",
       "    </tr>\n",
       "    <tr>\n",
       "      <th>2</th>\n",
       "      <td>48</td>\n",
       "      <td>123</td>\n",
       "    </tr>\n",
       "    <tr>\n",
       "      <th>3</th>\n",
       "      <td>60</td>\n",
       "      <td>145</td>\n",
       "    </tr>\n",
       "    <tr>\n",
       "      <th>4</th>\n",
       "      <td>70</td>\n",
       "      <td>160</td>\n",
       "    </tr>\n",
       "  </tbody>\n",
       "</table>\n",
       "</div>"
      ],
      "text/plain": [
       "   Weight  Height\n",
       "0      45     120\n",
       "1      58     135\n",
       "2      48     123\n",
       "3      60     145\n",
       "4      70     160"
      ]
     },
     "execution_count": 3,
     "metadata": {},
     "output_type": "execute_result"
    }
   ],
   "source": [
    "df.head()"
   ]
  },
  {
   "cell_type": "code",
   "execution_count": 104,
   "id": "0dea363c-53c8-4bda-8f8c-262ec6637a23",
   "metadata": {},
   "outputs": [
    {
     "data": {
      "text/html": [
       "<div>\n",
       "<style scoped>\n",
       "    .dataframe tbody tr th:only-of-type {\n",
       "        vertical-align: middle;\n",
       "    }\n",
       "\n",
       "    .dataframe tbody tr th {\n",
       "        vertical-align: top;\n",
       "    }\n",
       "\n",
       "    .dataframe thead th {\n",
       "        text-align: right;\n",
       "    }\n",
       "</style>\n",
       "<table border=\"1\" class=\"dataframe\">\n",
       "  <thead>\n",
       "    <tr style=\"text-align: right;\">\n",
       "      <th></th>\n",
       "      <th>Weight</th>\n",
       "      <th>Height</th>\n",
       "    </tr>\n",
       "  </thead>\n",
       "  <tbody>\n",
       "    <tr>\n",
       "      <th>Weight</th>\n",
       "      <td>1.000000</td>\n",
       "      <td>0.923861</td>\n",
       "    </tr>\n",
       "    <tr>\n",
       "      <th>Height</th>\n",
       "      <td>0.923861</td>\n",
       "      <td>1.000000</td>\n",
       "    </tr>\n",
       "  </tbody>\n",
       "</table>\n",
       "</div>"
      ],
      "text/plain": [
       "          Weight    Height\n",
       "Weight  1.000000  0.923861\n",
       "Height  0.923861  1.000000"
      ]
     },
     "execution_count": 104,
     "metadata": {},
     "output_type": "execute_result"
    }
   ],
   "source": [
    "df.corr('spearman')"
   ]
  },
  {
   "cell_type": "code",
   "execution_count": 105,
   "id": "0a43536a-59cf-45ea-a56e-d3e2db733347",
   "metadata": {},
   "outputs": [],
   "source": [
    "import seaborn as sns\n",
    "import matplotlib.pyplot as plt\n",
    "import warnings\n",
    "warnings.filterwarnings(\"ignore\")"
   ]
  },
  {
   "cell_type": "code",
   "execution_count": 106,
   "id": "a5725a7b-8f6d-45e6-8c8e-4f0165c985ba",
   "metadata": {},
   "outputs": [
    {
     "data": {
      "text/plain": [
       "Weight    0\n",
       "Height    0\n",
       "dtype: int64"
      ]
     },
     "execution_count": 106,
     "metadata": {},
     "output_type": "execute_result"
    }
   ],
   "source": [
    "df.isnull().sum()"
   ]
  },
  {
   "cell_type": "code",
   "execution_count": 107,
   "id": "ebb89078-2073-4c35-8e47-87d41a1cb317",
   "metadata": {},
   "outputs": [
    {
     "data": {
      "text/plain": [
       "0"
      ]
     },
     "execution_count": 107,
     "metadata": {},
     "output_type": "execute_result"
    }
   ],
   "source": [
    "df.duplicated().sum()"
   ]
  },
  {
   "cell_type": "code",
   "execution_count": 108,
   "id": "34574e41-1af7-4f9c-a9be-04ef7f7092bc",
   "metadata": {},
   "outputs": [
    {
     "data": {
      "text/plain": [
       "Weight    22\n",
       "Height    22\n",
       "dtype: int64"
      ]
     },
     "execution_count": 108,
     "metadata": {},
     "output_type": "execute_result"
    }
   ],
   "source": [
    "df.count()"
   ]
  },
  {
   "cell_type": "code",
   "execution_count": 109,
   "id": "1b314531-c1d2-466d-b41c-d349e32cc424",
   "metadata": {},
   "outputs": [],
   "source": [
    "df.drop_duplicates(inplace=True)"
   ]
  },
  {
   "cell_type": "code",
   "execution_count": 110,
   "id": "0b522ec3-b39b-437f-b054-3d3f05c1f96c",
   "metadata": {},
   "outputs": [
    {
     "data": {
      "text/plain": [
       "Weight    22\n",
       "Height    22\n",
       "dtype: int64"
      ]
     },
     "execution_count": 110,
     "metadata": {},
     "output_type": "execute_result"
    }
   ],
   "source": [
    "df.count()"
   ]
  },
  {
   "cell_type": "code",
   "execution_count": 111,
   "id": "27abd15a-b936-44f0-ad65-cbafb90d94fa",
   "metadata": {},
   "outputs": [
    {
     "data": {
      "text/plain": [
       "Text(0.5, 0, 'Height')"
      ]
     },
     "execution_count": 111,
     "metadata": {},
     "output_type": "execute_result"
    },
    {
     "data": {
      "image/png": "[encoded data removed]",
      "text/plain": [
       "<Figure size 640x480 with 2 Axes>"
      ]
     },
     "metadata": {},
     "output_type": "display_data"
    }
   ],
   "source": [
    "plt.subplot(1,2 ,1)\n",
    "sns.boxplot(df['Weight'])\n",
    "plt.xlabel('Weight')\n",
    "plt.subplot(1,2 ,2)\n",
    "sns.boxplot(df['Height'])\n",
    "plt.xlabel('Height')"
   ]
  },
  {
   "cell_type": "code",
   "execution_count": 112,
   "id": "f210d44a-843b-428e-ad90-7ec9fb24b88f",
   "metadata": {},
   "outputs": [
    {
     "data": {
      "text/plain": [
       "Text(0.5, 0, 'Height')"
      ]
     },
     "execution_count": 112,
     "metadata": {},
     "output_type": "execute_result"
    },
    {
     "data": {
      "image/png": "[encoded data removed]",
      "text/plain": [
       "<Figure size 640x480 with 2 Axes>"
      ]
     },
     "metadata": {},
     "output_type": "display_data"
    }
   ],
   "source": [
    "plt.subplot(1,2 ,1)\n",
    "sns.kdeplot(x=df['Weight'],shade=True, color='r')\n",
    "plt.xlabel('Weight')\n",
    "plt.subplot(1,2 ,2)\n",
    "sns.kdeplot(x=df['Height'],shade=True, color='r')\n",
    "plt.xlabel('Height')"
   ]
  },
  {
   "cell_type": "code",
   "execution_count": 113,
   "id": "39729917-35d1-4780-92b9-f805864eed37",
   "metadata": {},
   "outputs": [
    {
     "name": "stdout",
     "output_type": "stream",
     "text": [
      "Weight::   72.86363636363636 78 77.0\n",
      "Height::   157.3181818181818 140 161.0\n"
     ]
    }
   ],
   "source": [
    "print('Weight::  ',df['Weight'].mean(),df['Weight'].mode()[0],df['Weight'].median())\n",
    "print('Height::  ',df['Height'].mean(),df['Height'].mode()[0],df['Height'].median())"
   ]
  },
  {
   "cell_type": "code",
   "execution_count": 114,
   "id": "3e3305f0-a705-45fa-bf30-638b6173d6ef",
   "metadata": {},
   "outputs": [
    {
     "data": {
      "text/plain": [
       "<AxesSubplot: xlabel='Weight', ylabel='Height'>"
      ]
     },
     "execution_count": 114,
     "metadata": {},
     "output_type": "execute_result"
    },
    {
     "data": {
      "image/png": "[encoded data removed]",
      "text/plain": [
       "<Figure size 640x480 with 1 Axes>"
      ]
     },
     "metadata": {},
     "output_type": "display_data"
    }
   ],
   "source": [
    "sns.scatterplot(x=df['Weight'],y=df['Height'])"
   ]
  },
  {
   "cell_type": "code",
   "execution_count": 115,
   "id": "5af8f1f8-e95c-493d-90d7-0f78b3dbc812",
   "metadata": {},
   "outputs": [
    {
     "data": {
      "text/plain": [
       "<AxesSubplot: xlabel='Weight', ylabel='Height'>"
      ]
     },
     "execution_count": 115,
     "metadata": {},
     "output_type": "execute_result"
    },
    {
     "data": {
      "image/png": "[encoded data removed]",
      "text/plain": [
       "<Figure size 640x480 with 1 Axes>"
      ]
     },
     "metadata": {},
     "output_type": "display_data"
    }
   ],
   "source": [
    "sns.lineplot(x=df['Weight'],y=df['Height'])"
   ]
  },
  {
   "cell_type": "markdown",
   "id": "01040170-9f1a-4cd4-94d7-cae7aafef35f",
   "metadata": {},
   "source": [
    "### INSIGHTS\n",
    "- No null value in dataset\n",
    "- Removed 1 duplicate element\n",
    "- We can see my weight highly positively related with my weight by corr plot\n",
    "- Neither my Weight nor my Height has Ouliers which may alter or give bias prediction\n",
    "- We can see they almost follow normal distribution thier mean mode median does not vary much\n",
    "- Throught their scatter and line plot we can see Height is linearly increasing with weight"
   ]
  },
  {
   "cell_type": "markdown",
   "id": "1876e24b-d0e9-4b20-9cfe-947b399ead28",
   "metadata": {},
   "source": [
    "### SUMMARY\n",
    "- So we have done data cleaning and understood how input and output are basically varying by various feature and data visualization\n"
   ]
  },
  {
   "cell_type": "markdown",
   "id": "ea917f8c-ba09-4352-b103-6125c1801d43",
   "metadata": {},
   "source": [
    "### ML PART\n",
    "- Now coming to ML here we know for creating ML model we have to train our dataset then validate and then test it"
   ]
  },
  {
   "cell_type": "markdown",
   "id": "a050ed87-fb94-4c24-a791-58c0377b0733",
   "metadata": {},
   "source": [
    "- Divide features based on dependent and independent feature in dataset\n",
    "   - I have input as independent Feature => Weight\n",
    "   - I have output as dependent Feature => Height"
   ]
  },
  {
   "cell_type": "markdown",
   "id": "7943161e-dbc0-4dbd-89ff-0742f1d2e4e7",
   "metadata": {},
   "source": [
    "- Training our data "
   ]
  },
  {
   "cell_type": "code",
   "execution_count": 116,
   "id": "9547301e-ebe7-4f0b-b9fe-3b25b8145b77",
   "metadata": {},
   "outputs": [],
   "source": [
    "from sklearn.model_selection import train_test_split"
   ]
  },
  {
   "cell_type": "markdown",
   "id": "79ff14a8-3383-4f61-9a96-73c9fa0359f7",
   "metadata": {},
   "source": [
    "- Here I have four variables\n",
    "    - X_train as a independent input feature used for training my model\n",
    "    - y_train as a dependent output feature used for training my model\n",
    "    - X_test as a independent input feature used for testing my model\n",
    "    - y_test as a dependent output feature used for testing my model"
   ]
  },
  {
   "cell_type": "code",
   "execution_count": 117,
   "id": "36abb1af-7825-4818-9e15-dc3b946e64cd",
   "metadata": {},
   "outputs": [],
   "source": [
    "X=df[['Weight']]\n",
    "y=df[['Height']]"
   ]
  },
  {
   "cell_type": "code",
   "execution_count": 118,
   "id": "aadf9b20-d096-4d6f-a1c3-ee5ffbc8f40d",
   "metadata": {},
   "outputs": [],
   "source": [
    "X_train,X_test,y_train,y_test=train_test_split(X,y,test_size=0.20,random_state=42) \n",
    "#Here test size is 0.20 means out of 100 data 80 will be used for traininn my model\n",
    "# And 0.80 will be used for testing my model"
   ]
  },
  {
   "cell_type": "code",
   "execution_count": 119,
   "id": "e60976c3-4472-4484-a829-d75025951be6",
   "metadata": {},
   "outputs": [
    {
     "data": {
      "text/html": [
       "<div>\n",
       "<style scoped>\n",
       "    .dataframe tbody tr th:only-of-type {\n",
       "        vertical-align: middle;\n",
       "    }\n",
       "\n",
       "    .dataframe tbody tr th {\n",
       "        vertical-align: top;\n",
       "    }\n",
       "\n",
       "    .dataframe thead th {\n",
       "        text-align: right;\n",
       "    }\n",
       "</style>\n",
       "<table border=\"1\" class=\"dataframe\">\n",
       "  <thead>\n",
       "    <tr style=\"text-align: right;\">\n",
       "      <th></th>\n",
       "      <th>Weight</th>\n",
       "    </tr>\n",
       "  </thead>\n",
       "  <tbody>\n",
       "    <tr>\n",
       "      <th>5</th>\n",
       "      <td>78</td>\n",
       "    </tr>\n",
       "    <tr>\n",
       "      <th>21</th>\n",
       "      <td>56</td>\n",
       "    </tr>\n",
       "    <tr>\n",
       "      <th>12</th>\n",
       "      <td>105</td>\n",
       "    </tr>\n",
       "    <tr>\n",
       "      <th>3</th>\n",
       "      <td>60</td>\n",
       "    </tr>\n",
       "    <tr>\n",
       "      <th>4</th>\n",
       "      <td>70</td>\n",
       "    </tr>\n",
       "  </tbody>\n",
       "</table>\n",
       "</div>"
      ],
      "text/plain": [
       "    Weight\n",
       "5       78\n",
       "21      56\n",
       "12     105\n",
       "3       60\n",
       "4       70"
      ]
     },
     "execution_count": 119,
     "metadata": {},
     "output_type": "execute_result"
    }
   ],
   "source": [
    "X_train.head()"
   ]
  },
  {
   "cell_type": "code",
   "execution_count": 120,
   "id": "9f910cd9-680b-4585-a60a-54dbd554bde0",
   "metadata": {},
   "outputs": [
    {
     "data": {
      "text/html": [
       "<div>\n",
       "<style scoped>\n",
       "    .dataframe tbody tr th:only-of-type {\n",
       "        vertical-align: middle;\n",
       "    }\n",
       "\n",
       "    .dataframe tbody tr th {\n",
       "        vertical-align: top;\n",
       "    }\n",
       "\n",
       "    .dataframe thead th {\n",
       "        text-align: right;\n",
       "    }\n",
       "</style>\n",
       "<table border=\"1\" class=\"dataframe\">\n",
       "  <thead>\n",
       "    <tr style=\"text-align: right;\">\n",
       "      <th></th>\n",
       "      <th>Weight</th>\n",
       "    </tr>\n",
       "  </thead>\n",
       "  <tbody>\n",
       "    <tr>\n",
       "      <th>0</th>\n",
       "      <td>45</td>\n",
       "    </tr>\n",
       "    <tr>\n",
       "      <th>14</th>\n",
       "      <td>85</td>\n",
       "    </tr>\n",
       "    <tr>\n",
       "      <th>8</th>\n",
       "      <td>95</td>\n",
       "    </tr>\n",
       "    <tr>\n",
       "      <th>1</th>\n",
       "      <td>58</td>\n",
       "    </tr>\n",
       "    <tr>\n",
       "      <th>16</th>\n",
       "      <td>50</td>\n",
       "    </tr>\n",
       "  </tbody>\n",
       "</table>\n",
       "</div>"
      ],
      "text/plain": [
       "    Weight\n",
       "0       45\n",
       "14      85\n",
       "8       95\n",
       "1       58\n",
       "16      50"
      ]
     },
     "execution_count": 120,
     "metadata": {},
     "output_type": "execute_result"
    }
   ],
   "source": [
    "X_test.head()"
   ]
  },
  {
   "cell_type": "code",
   "execution_count": 121,
   "id": "a3a311ed-41de-461e-bed1-b99226bf697f",
   "metadata": {},
   "outputs": [
    {
     "data": {
      "text/plain": [
       "(17, 1)"
      ]
     },
     "execution_count": 121,
     "metadata": {},
     "output_type": "execute_result"
    }
   ],
   "source": [
    "X_train.shape"
   ]
  },
  {
   "cell_type": "code",
   "execution_count": 122,
   "id": "20d2f326-b6a9-461b-990a-446be8b6e7dc",
   "metadata": {},
   "outputs": [
    {
     "data": {
      "text/plain": [
       "(5, 1)"
      ]
     },
     "execution_count": 122,
     "metadata": {},
     "output_type": "execute_result"
    }
   ],
   "source": [
    "X_test.shape"
   ]
  },
  {
   "cell_type": "code",
   "execution_count": 123,
   "id": "f8ef109f-355e-45db-b955-c9aa57f6e5c0",
   "metadata": {},
   "outputs": [],
   "source": [
    "#That is 17 data values will be used for actually training my model\n",
    "#While 5 data values will be used for testing my model"
   ]
  },
  {
   "cell_type": "markdown",
   "id": "0aefac73-4249-4148-9f2c-965ee49c461d",
   "metadata": {},
   "source": [
    "#### Standarizing the Data \n",
    "- As we can see here my input and output variables are having different units that is my height is in cm and weight is in kg\n",
    "- Also different scale that is my height is ranging from 120 cm to 180 cm\n",
    "- While my weight is ranging from 50 kg to 100 kg\n",
    "- Also due to standarizing my calculation will be fast as i will have my all data variables values ranging between -3 to +3"
   ]
  },
  {
   "cell_type": "code",
   "execution_count": 124,
   "id": "9eb0b17c-006a-4052-b9c3-66ef4eff8203",
   "metadata": {},
   "outputs": [],
   "source": [
    "from sklearn.preprocessing import StandardScaler"
   ]
  },
  {
   "cell_type": "code",
   "execution_count": 125,
   "id": "d1bfae4c-5361-45c4-9884-e6acfc14dc18",
   "metadata": {},
   "outputs": [],
   "source": [
    "scaler=StandardScaler()"
   ]
  },
  {
   "cell_type": "markdown",
   "id": "40196a06-bac6-4a33-b174-defb03688d8f",
   "metadata": {},
   "source": [
    "- Note: Here while doing standarization Fit transform should only be done for train data\n",
    "- While for test data only transform need to be done because my model should not have any information regarding my test data"
   ]
  },
  {
   "cell_type": "code",
   "execution_count": 126,
   "id": "2e31b83e-2878-47fa-bd35-8c4d2592fc06",
   "metadata": {},
   "outputs": [
    {
     "data": {
      "text/plain": [
       "array([[ 0.20608301],\n",
       "       [-1.17025708],\n",
       "       [ 1.89522766],\n",
       "       [-0.92001342],\n",
       "       [-0.2944043 ],\n",
       "       [ 0.08096118],\n",
       "       [ 1.58242309],\n",
       "       [ 0.76913122],\n",
       "       [-0.60720886],\n",
       "       [-1.67074438],\n",
       "       [ 0.20608301],\n",
       "       [-0.16928247],\n",
       "       [ 0.95681396],\n",
       "       [ 0.45632666],\n",
       "       [ 0.20608301],\n",
       "       [-1.85842712],\n",
       "       [ 0.33120483]])"
      ]
     },
     "execution_count": 126,
     "metadata": {},
     "output_type": "execute_result"
    }
   ],
   "source": [
    "X_train = scaler.fit_transform(X_train)\n",
    "X_train"
   ]
  },
  {
   "cell_type": "code",
   "execution_count": 127,
   "id": "3e0114ea-09e9-4c6d-8203-2faf3fc11264",
   "metadata": {},
   "outputs": [
    {
     "data": {
      "text/plain": [
       "array([[-1.85842712],\n",
       "       [ 0.6440094 ],\n",
       "       [ 1.26961853],\n",
       "       [-1.04513525],\n",
       "       [-1.54562255]])"
      ]
     },
     "execution_count": 127,
     "metadata": {},
     "output_type": "execute_result"
    }
   ],
   "source": [
    "X_test=scaler.transform(X_test)\n",
    "X_test"
   ]
  },
  {
   "cell_type": "code",
   "execution_count": 128,
   "id": "aa88df43-2e73-424d-b57c-c1e0511e147c",
   "metadata": {},
   "outputs": [
    {
     "data": {
      "text/plain": [
       "<matplotlib.collections.PathCollection at 0x7f0bed4dff10>"
      ]
     },
     "execution_count": 128,
     "metadata": {},
     "output_type": "execute_result"
    },
    {
     "data": {
      "image/png": "[encoded data removed]",
      "text/plain": [
       "<Figure size 640x480 with 1 Axes>"
      ]
     },
     "metadata": {},
     "output_type": "display_data"
    }
   ],
   "source": [
    "plt.scatter(x=X_train,y=y_train)"
   ]
  },
  {
   "cell_type": "code",
   "execution_count": 129,
   "id": "91bbde13-27b4-4f78-893a-cc2989c6308b",
   "metadata": {},
   "outputs": [],
   "source": [
    "### Now training my Simple Regression Model using Linear Regresion\n",
    "from sklearn.linear_model import LinearRegression"
   ]
  },
  {
   "cell_type": "code",
   "execution_count": 130,
   "id": "973d1489-f03e-4626-8018-e44e7d2fe31c",
   "metadata": {},
   "outputs": [],
   "source": [
    "regressor=LinearRegression()"
   ]
  },
  {
   "cell_type": "code",
   "execution_count": 131,
   "id": "b2e414e8-7f0a-47d8-934c-6d5e4c6ab9d2",
   "metadata": {},
   "outputs": [
    {
     "data": {
      "text/html": [
       "<style>#sk-container-id-3 {color: black;background-color: white;}#sk-container-id-3 pre{padding: 0;}#sk-container-id-3 div.sk-toggleable {background-color: white;}#sk-container-id-3 label.sk-toggleable__label {cursor: pointer;display: block;width: 100%;margin-bottom: 0;padding: 0.3em;box-sizing: border-box;text-align: center;}#sk-container-id-3 label.sk-toggleable__label-arrow:before {content: \"▸\";float: left;margin-right: 0.25em;color: #696969;}#sk-container-id-3 label.sk-toggleable__label-arrow:hover:before {color: black;}#sk-container-id-3 div.sk-estimator:hover label.sk-toggleable__label-arrow:before {color: black;}#sk-container-id-3 div.sk-toggleable__content {max-height: 0;max-width: 0;overflow: hidden;text-align: left;background-color: #f0f8ff;}#sk-container-id-3 div.sk-toggleable__content pre {margin: 0.2em;color: black;border-radius: 0.25em;background-color: #f0f8ff;}#sk-container-id-3 input.sk-toggleable__control:checked~div.sk-toggleable__content {max-height: 200px;max-width: 100%;overflow: auto;}#sk-container-id-3 input.sk-toggleable__control:checked~label.sk-toggleable__label-arrow:before {content: \"▾\";}#sk-container-id-3 div.sk-estimator input.sk-toggleable__control:checked~label.sk-toggleable__label {background-color: #d4ebff;}#sk-container-id-3 div.sk-label input.sk-toggleable__control:checked~label.sk-toggleable__label {background-color: #d4ebff;}#sk-container-id-3 input.sk-hidden--visually {border: 0;clip: rect(1px 1px 1px 1px);clip: rect(1px, 1px, 1px, 1px);height: 1px;margin: -1px;overflow: hidden;padding: 0;position: absolute;width: 1px;}#sk-container-id-3 div.sk-estimator {font-family: monospace;background-color: #f0f8ff;border: 1px dotted black;border-radius: 0.25em;box-sizing: border-box;margin-bottom: 0.5em;}#sk-container-id-3 div.sk-estimator:hover {background-color: #d4ebff;}#sk-container-id-3 div.sk-parallel-item::after {content: \"\";width: 100%;border-bottom: 1px solid gray;flex-grow: 1;}#sk-container-id-3 div.sk-label:hover label.sk-toggleable__label {background-color: #d4ebff;}#sk-container-id-3 div.sk-serial::before {content: \"\";position: absolute;border-left: 1px solid gray;box-sizing: border-box;top: 0;bottom: 0;left: 50%;z-index: 0;}#sk-container-id-3 div.sk-serial {display: flex;flex-direction: column;align-items: center;background-color: white;padding-right: 0.2em;padding-left: 0.2em;position: relative;}#sk-container-id-3 div.sk-item {position: relative;z-index: 1;}#sk-container-id-3 div.sk-parallel {display: flex;align-items: stretch;justify-content: center;background-color: white;position: relative;}#sk-container-id-3 div.sk-item::before, #sk-container-id-3 div.sk-parallel-item::before {content: \"\";position: absolute;border-left: 1px solid gray;box-sizing: border-box;top: 0;bottom: 0;left: 50%;z-index: -1;}#sk-container-id-3 div.sk-parallel-item {display: flex;flex-direction: column;z-index: 1;position: relative;background-color: white;}#sk-container-id-3 div.sk-parallel-item:first-child::after {align-self: flex-end;width: 50%;}#sk-container-id-3 div.sk-parallel-item:last-child::after {align-self: flex-start;width: 50%;}#sk-container-id-3 div.sk-parallel-item:only-child::after {width: 0;}#sk-container-id-3 div.sk-dashed-wrapped {border: 1px dashed gray;margin: 0 0.4em 0.5em 0.4em;box-sizing: border-box;padding-bottom: 0.4em;background-color: white;}#sk-container-id-3 div.sk-label label {font-family: monospace;font-weight: bold;display: inline-block;line-height: 1.2em;}#sk-container-id-3 div.sk-label-container {text-align: center;}#sk-container-id-3 div.sk-container {/* jupyter's `normalize.less` sets `[hidden] { display: none; }` but bootstrap.min.css set `[hidden] { display: none !important; }` so we also need the `!important` here to be able to override the default hidden behavior on the sphinx rendered scikit-learn.org. See: https://github.com/scikit-learn/scikit-learn/issues/21755 */display: inline-block !important;position: relative;}#sk-container-id-3 div.sk-text-repr-fallback {display: none;}</style><div id=\"sk-container-id-3\" class=\"sk-top-container\"><div class=\"sk-text-repr-fallback\"><pre>LinearRegression()</pre><b>In a Jupyter environment, please rerun this cell to show the HTML representation or trust the notebook. <br />On GitHub, the HTML representation is unable to render, please try loading this page with nbviewer.org.</b></div><div class=\"sk-container\" hidden><div class=\"sk-item\"><div class=\"sk-estimator sk-toggleable\"><input class=\"sk-toggleable__control sk-hidden--visually\" id=\"sk-estimator-id-3\" type=\"checkbox\" checked><label for=\"sk-estimator-id-3\" class=\"sk-toggleable__label sk-toggleable__label-arrow\">LinearRegression</label><div class=\"sk-toggleable__content\"><pre>LinearRegression()</pre></div></div></div></div></div>"
      ],
      "text/plain": [
       "LinearRegression()"
      ]
     },
     "execution_count": 131,
     "metadata": {},
     "output_type": "execute_result"
    }
   ],
   "source": [
    "regressor.fit(X_train,y_train) #Gives slope and intercept for best fit line\n",
    "#By trying all posible values"
   ]
  },
  {
   "cell_type": "code",
   "execution_count": 132,
   "id": "7105f9a7-65d8-49ee-9c3d-50eaa67508ac",
   "metadata": {},
   "outputs": [],
   "source": [
    "slope=regressor.coef_\n",
    "intercept=regressor.intercept_"
   ]
  },
  {
   "cell_type": "code",
   "execution_count": 133,
   "id": "a8a2330c-b0ac-4c34-813b-ae9f0ebc94bf",
   "metadata": {},
   "outputs": [
    {
     "data": {
      "text/plain": [
       "15.015484989908533"
      ]
     },
     "execution_count": 133,
     "metadata": {},
     "output_type": "execute_result"
    }
   ],
   "source": [
    "slope[0][0]"
   ]
  },
  {
   "cell_type": "code",
   "execution_count": 134,
   "id": "f802ab95-a37f-46a2-8f72-409f9d65d754",
   "metadata": {},
   "outputs": [
    {
     "data": {
      "text/plain": [
       "159.64705882352942"
      ]
     },
     "execution_count": 134,
     "metadata": {},
     "output_type": "execute_result"
    }
   ],
   "source": [
    "intercept[0]"
   ]
  },
  {
   "cell_type": "code",
   "execution_count": 135,
   "id": "1bca1f7b-3217-4dc7-ba05-d5f3e7fc20ab",
   "metadata": {},
   "outputs": [],
   "source": [
    "m=slope[0][0]\n",
    "c=intercept[0]"
   ]
  },
  {
   "cell_type": "code",
   "execution_count": 136,
   "id": "da72615d-f83e-4638-b0dd-c14123153157",
   "metadata": {},
   "outputs": [
    {
     "data": {
      "text/plain": [
       "[<matplotlib.lines.Line2D at 0x7f0bed366cb0>]"
      ]
     },
     "execution_count": 136,
     "metadata": {},
     "output_type": "execute_result"
    },
    {
     "data": {
      "image/png": "[encoded data removed]",
      "text/plain": [
       "<Figure size 640x480 with 1 Axes>"
      ]
     },
     "metadata": {},
     "output_type": "display_data"
    }
   ],
   "source": [
    "plt.scatter(x=X_train,y=y_train)\n",
    "plt.plot(X_train,regressor.predict(X_train),'r')"
   ]
  },
  {
   "cell_type": "markdown",
   "id": "8afa6dcc-1459-44cd-a60d-5bc8f4f3c442",
   "metadata": {},
   "source": [
    "### prediction of train data\n",
    "1. predicted height output= intercept +coef_(Weights)\n",
    "2. y_pred_train =159.64 + 15.01(X_train)\n",
    "          \n",
    "### prediction of test data\n",
    "1. predicted height output= intercept +coef_(Weights)\n",
    "2. y_pred_test =159.64 + 15.01(X_test)"
   ]
  },
  {
   "cell_type": "markdown",
   "id": "4f30d9a2-e088-47b2-b773-a8acbff78441",
   "metadata": {},
   "source": [
    "### Comparing my actual test data output and predicted test data output"
   ]
  },
  {
   "cell_type": "code",
   "execution_count": 137,
   "id": "469837bc-446b-4c35-befb-12ebc6602612",
   "metadata": {},
   "outputs": [],
   "source": [
    "y_pred_test=regressor.predict(X_test)"
   ]
  },
  {
   "cell_type": "code",
   "execution_count": 138,
   "id": "cdf31912-d82d-49eb-b375-5dbd74790b91",
   "metadata": {},
   "outputs": [
    {
     "data": {
      "text/plain": [
       "array([[131.74187432],\n",
       "       [169.31717226],\n",
       "       [178.71099675],\n",
       "       [143.95384615],\n",
       "       [136.43878657]])"
      ]
     },
     "execution_count": 138,
     "metadata": {},
     "output_type": "execute_result"
    }
   ],
   "source": [
    "y_pred_test "
   ]
  },
  {
   "cell_type": "code",
   "execution_count": 139,
   "id": "56f35605-b664-4391-8556-6e21ec807793",
   "metadata": {},
   "outputs": [
    {
     "data": {
      "text/html": [
       "<div>\n",
       "<style scoped>\n",
       "    .dataframe tbody tr th:only-of-type {\n",
       "        vertical-align: middle;\n",
       "    }\n",
       "\n",
       "    .dataframe tbody tr th {\n",
       "        vertical-align: top;\n",
       "    }\n",
       "\n",
       "    .dataframe thead th {\n",
       "        text-align: right;\n",
       "    }\n",
       "</style>\n",
       "<table border=\"1\" class=\"dataframe\">\n",
       "  <thead>\n",
       "    <tr style=\"text-align: right;\">\n",
       "      <th></th>\n",
       "      <th>Height</th>\n",
       "    </tr>\n",
       "  </thead>\n",
       "  <tbody>\n",
       "    <tr>\n",
       "      <th>0</th>\n",
       "      <td>120</td>\n",
       "    </tr>\n",
       "    <tr>\n",
       "      <th>14</th>\n",
       "      <td>170</td>\n",
       "    </tr>\n",
       "    <tr>\n",
       "      <th>8</th>\n",
       "      <td>182</td>\n",
       "    </tr>\n",
       "    <tr>\n",
       "      <th>1</th>\n",
       "      <td>135</td>\n",
       "    </tr>\n",
       "    <tr>\n",
       "      <th>16</th>\n",
       "      <td>140</td>\n",
       "    </tr>\n",
       "  </tbody>\n",
       "</table>\n",
       "</div>"
      ],
      "text/plain": [
       "    Height\n",
       "0      120\n",
       "14     170\n",
       "8      182\n",
       "1      135\n",
       "16     140"
      ]
     },
     "execution_count": 139,
     "metadata": {},
     "output_type": "execute_result"
    }
   ],
   "source": [
    "y_test"
   ]
  },
  {
   "cell_type": "code",
   "execution_count": 140,
   "id": "a2641139-7477-4bf9-acd9-074799354991",
   "metadata": {},
   "outputs": [
    {
     "data": {
      "text/plain": [
       "[<matplotlib.lines.Line2D at 0x7f0bed3f7220>]"
      ]
     },
     "execution_count": 140,
     "metadata": {},
     "output_type": "execute_result"
    },
    {
     "data": {
      "image/png": "[encoded data removed]",
      "text/plain": [
       "<Figure size 640x480 with 1 Axes>"
      ]
     },
     "metadata": {},
     "output_type": "display_data"
    }
   ],
   "source": [
    "plt.scatter(x=X_test,y=y_test)\n",
    "plt.plot(X_test,regressor.predict(X_test),'r')"
   ]
  },
  {
   "cell_type": "code",
   "execution_count": 141,
   "id": "f5d6e582-92d1-4e29-9ced-a68ac3420b2f",
   "metadata": {},
   "outputs": [],
   "source": [
    "#Above scattered piont represent my actual test data output and line is my predicted test data output "
   ]
  },
  {
   "cell_type": "markdown",
   "id": "98545ad9-2944-446e-8cce-7513a5a037b4",
   "metadata": {},
   "source": [
    "#### Finding my minimum error that occured in creating best fit line \n",
    "- Through Various cost function\n",
    "  - MSE MAE RMSE"
   ]
  },
  {
   "cell_type": "code",
   "execution_count": 142,
   "id": "927f6580-a7d9-44db-b937-e4d01c3bff37",
   "metadata": {},
   "outputs": [],
   "source": [
    "from sklearn.metrics import mean_squared_error,mean_absolute_error"
   ]
  },
  {
   "cell_type": "code",
   "execution_count": 143,
   "id": "41d3fd27-a27f-4b2b-a5ba-89880a0582ab",
   "metadata": {},
   "outputs": [],
   "source": [
    "mse=mean_squared_error(y_test,y_pred_test)\n",
    "mae=mean_absolute_error(y_test,y_pred_test)\n",
    "rmse=np.sqrt(mse)"
   ]
  },
  {
   "cell_type": "code",
   "execution_count": 144,
   "id": "51be9b77-5145-424e-9c68-0cd46e51fbaa",
   "metadata": {},
   "outputs": [
    {
     "data": {
      "text/plain": [
       "(48.401802156635156, 5.645752979414948, 6.957140372066324)"
      ]
     },
     "execution_count": 144,
     "metadata": {},
     "output_type": "execute_result"
    }
   ],
   "source": [
    "mse,mae,rmse"
   ]
  },
  {
   "cell_type": "markdown",
   "id": "b2677fe8-840a-4220-aaad-8bad910a527a",
   "metadata": {},
   "source": [
    "#### Performance Matrix (How well is my ml model predicting for new data ie Finding Accuracyof my ml model)"
   ]
  },
  {
   "cell_type": "code",
   "execution_count": 145,
   "id": "e019b5d9-4947-4c49-ae9a-c44a669d34b0",
   "metadata": {},
   "outputs": [],
   "source": [
    "from sklearn.metrics import r2_score"
   ]
  },
  {
   "cell_type": "markdown",
   "id": "f6b5dd11-9ccd-431f-b4aa-b19ebdb2c491",
   "metadata": {},
   "source": [
    "#### i)R squared accuracy\n",
    "Formula\n",
    "\n",
    "**R^2 = 1 - SSR/SST**\n",
    "\n",
    "\n",
    "R^2\t=\tcoefficient of determination\n",
    "SSR\t=\tsum of squares of residuals\n",
    "SST\t=\ttotal sum of squares"
   ]
  },
  {
   "cell_type": "code",
   "execution_count": 146,
   "id": "c4c4da8c-1ffd-4fea-8f81-003aa4d0a7fb",
   "metadata": {},
   "outputs": [
    {
     "data": {
      "text/plain": [
       "90.85792494774948"
      ]
     },
     "execution_count": 146,
     "metadata": {},
     "output_type": "execute_result"
    }
   ],
   "source": [
    "#Calculating adjusted r2 accuracy\n",
    "r2_accuracy=r2_score(y_test,y_pred_test)\n",
    "r2_accuracy*100"
   ]
  },
  {
   "cell_type": "markdown",
   "id": "1ed6f455-9115-4d7d-9786-6acc5fa52e44",
   "metadata": {},
   "source": [
    "#### ii)Adjusted r squared accuracy\n",
    "**Adjusted R2 = 1 – [(1-R2)*(n-1)/(n-k-1)]**\n",
    "\n",
    "where:\n",
    "\n",
    "R2: The R2 of the model\n",
    "n: The number of observations\n",
    "k: The number of predictor variables"
   ]
  },
  {
   "cell_type": "code",
   "execution_count": 147,
   "id": "61121351-da02-49a1-abd7-5ce99cdc1399",
   "metadata": {},
   "outputs": [
    {
     "data": {
      "text/plain": [
       "87.81056659699931"
      ]
     },
     "execution_count": 147,
     "metadata": {},
     "output_type": "execute_result"
    }
   ],
   "source": [
    "#Calculating adjusted r2 accuracy\n",
    "adjusted_r2_accuracy=1 - (1-r2_accuracy)*(len(y_test)-1)/(len(y_test)-X_test.shape[1]-1)\n",
    "adjusted_r2_accuracy*100"
   ]
  },
  {
   "cell_type": "markdown",
   "id": "b0056255-e30b-48d7-b905-8e2bd9a9e839",
   "metadata": {},
   "source": [
    "#### Predicting output for new data point \n",
    "- Here we will give our own weight as a input to get output"
   ]
  },
  {
   "cell_type": "code",
   "execution_count": 148,
   "id": "94de4846-44fc-49fb-9a2f-74e0e875eecb",
   "metadata": {},
   "outputs": [
    {
     "data": {
      "text/html": [
       "<style>#sk-container-id-4 {color: black;background-color: white;}#sk-container-id-4 pre{padding: 0;}#sk-container-id-4 div.sk-toggleable {background-color: white;}#sk-container-id-4 label.sk-toggleable__label {cursor: pointer;display: block;width: 100%;margin-bottom: 0;padding: 0.3em;box-sizing: border-box;text-align: center;}#sk-container-id-4 label.sk-toggleable__label-arrow:before {content: \"▸\";float: left;margin-right: 0.25em;color: #696969;}#sk-container-id-4 label.sk-toggleable__label-arrow:hover:before {color: black;}#sk-container-id-4 div.sk-estimator:hover label.sk-toggleable__label-arrow:before {color: black;}#sk-container-id-4 div.sk-toggleable__content {max-height: 0;max-width: 0;overflow: hidden;text-align: left;background-color: #f0f8ff;}#sk-container-id-4 div.sk-toggleable__content pre {margin: 0.2em;color: black;border-radius: 0.25em;background-color: #f0f8ff;}#sk-container-id-4 input.sk-toggleable__control:checked~div.sk-toggleable__content {max-height: 200px;max-width: 100%;overflow: auto;}#sk-container-id-4 input.sk-toggleable__control:checked~label.sk-toggleable__label-arrow:before {content: \"▾\";}#sk-container-id-4 div.sk-estimator input.sk-toggleable__control:checked~label.sk-toggleable__label {background-color: #d4ebff;}#sk-container-id-4 div.sk-label input.sk-toggleable__control:checked~label.sk-toggleable__label {background-color: #d4ebff;}#sk-container-id-4 input.sk-hidden--visually {border: 0;clip: rect(1px 1px 1px 1px);clip: rect(1px, 1px, 1px, 1px);height: 1px;margin: -1px;overflow: hidden;padding: 0;position: absolute;width: 1px;}#sk-container-id-4 div.sk-estimator {font-family: monospace;background-color: #f0f8ff;border: 1px dotted black;border-radius: 0.25em;box-sizing: border-box;margin-bottom: 0.5em;}#sk-container-id-4 div.sk-estimator:hover {background-color: #d4ebff;}#sk-container-id-4 div.sk-parallel-item::after {content: \"\";width: 100%;border-bottom: 1px solid gray;flex-grow: 1;}#sk-container-id-4 div.sk-label:hover label.sk-toggleable__label {background-color: #d4ebff;}#sk-container-id-4 div.sk-serial::before {content: \"\";position: absolute;border-left: 1px solid gray;box-sizing: border-box;top: 0;bottom: 0;left: 50%;z-index: 0;}#sk-container-id-4 div.sk-serial {display: flex;flex-direction: column;align-items: center;background-color: white;padding-right: 0.2em;padding-left: 0.2em;position: relative;}#sk-container-id-4 div.sk-item {position: relative;z-index: 1;}#sk-container-id-4 div.sk-parallel {display: flex;align-items: stretch;justify-content: center;background-color: white;position: relative;}#sk-container-id-4 div.sk-item::before, #sk-container-id-4 div.sk-parallel-item::before {content: \"\";position: absolute;border-left: 1px solid gray;box-sizing: border-box;top: 0;bottom: 0;left: 50%;z-index: -1;}#sk-container-id-4 div.sk-parallel-item {display: flex;flex-direction: column;z-index: 1;position: relative;background-color: white;}#sk-container-id-4 div.sk-parallel-item:first-child::after {align-self: flex-end;width: 50%;}#sk-container-id-4 div.sk-parallel-item:last-child::after {align-self: flex-start;width: 50%;}#sk-container-id-4 div.sk-parallel-item:only-child::after {width: 0;}#sk-container-id-4 div.sk-dashed-wrapped {border: 1px dashed gray;margin: 0 0.4em 0.5em 0.4em;box-sizing: border-box;padding-bottom: 0.4em;background-color: white;}#sk-container-id-4 div.sk-label label {font-family: monospace;font-weight: bold;display: inline-block;line-height: 1.2em;}#sk-container-id-4 div.sk-label-container {text-align: center;}#sk-container-id-4 div.sk-container {/* jupyter's `normalize.less` sets `[hidden] { display: none; }` but bootstrap.min.css set `[hidden] { display: none !important; }` so we also need the `!important` here to be able to override the default hidden behavior on the sphinx rendered scikit-learn.org. See: https://github.com/scikit-learn/scikit-learn/issues/21755 */display: inline-block !important;position: relative;}#sk-container-id-4 div.sk-text-repr-fallback {display: none;}</style><div id=\"sk-container-id-4\" class=\"sk-top-container\"><div class=\"sk-text-repr-fallback\"><pre>LinearRegression()</pre><b>In a Jupyter environment, please rerun this cell to show the HTML representation or trust the notebook. <br />On GitHub, the HTML representation is unable to render, please try loading this page with nbviewer.org.</b></div><div class=\"sk-container\" hidden><div class=\"sk-item\"><div class=\"sk-estimator sk-toggleable\"><input class=\"sk-toggleable__control sk-hidden--visually\" id=\"sk-estimator-id-4\" type=\"checkbox\" checked><label for=\"sk-estimator-id-4\" class=\"sk-toggleable__label sk-toggleable__label-arrow\">LinearRegression</label><div class=\"sk-toggleable__content\"><pre>LinearRegression()</pre></div></div></div></div></div>"
      ],
      "text/plain": [
       "LinearRegression()"
      ]
     },
     "execution_count": 148,
     "metadata": {},
     "output_type": "execute_result"
    }
   ],
   "source": [
    "regressor"
   ]
  },
  {
   "cell_type": "code",
   "execution_count": 149,
   "id": "6e5e9170-c8b5-4e80-8b59-83fd38fba411",
   "metadata": {},
   "outputs": [
    {
     "data": {
      "text/plain": [
       "array([[0.33120483]])"
      ]
     },
     "execution_count": 149,
     "metadata": {},
     "output_type": "execute_result"
    }
   ],
   "source": [
    "scaler.transform([[80]])"
   ]
  },
  {
   "cell_type": "code",
   "execution_count": 150,
   "id": "92efa46d-eb47-40c2-8f99-82c577386530",
   "metadata": {},
   "outputs": [
    {
     "data": {
      "text/plain": [
       "array([[164.62026002]])"
      ]
     },
     "execution_count": 150,
     "metadata": {},
     "output_type": "execute_result"
    }
   ],
   "source": [
    "regressor.predict(scaler.transform([[80]]))"
   ]
  },
  {
   "cell_type": "code",
   "execution_count": 151,
   "id": "5122d004-ee66-4658-a903-1fcce98ce1e8",
   "metadata": {},
   "outputs": [
    {
     "data": {
      "text/plain": [
       "<matplotlib.collections.PathCollection at 0x7f0e1c3dc250>"
      ]
     },
     "execution_count": 151,
     "metadata": {},
     "output_type": "execute_result"
    },
    {
     "data": {
      "image/png": "[encoded data removed]",
      "text/plain": [
       "<Figure size 640x480 with 1 Axes>"
      ]
     },
     "metadata": {},
     "output_type": "display_data"
    }
   ],
   "source": [
    "plt.scatter(y_test,y_pred_test)"
   ]
  },
  {
   "cell_type": "code",
   "execution_count": 152,
   "id": "3e0211bb-5c64-4cab-9845-3630dcf70604",
   "metadata": {},
   "outputs": [],
   "source": [
    "#As here x axis and y axis value are almost simialr for data point\n",
    "#Hence i can say my ml model is very well predicting"
   ]
  },
  {
   "cell_type": "markdown",
   "id": "6bc4be74-c5fe-40f3-ada2-f48e0a29a190",
   "metadata": {},
   "source": [
    "#### Residuals"
   ]
  },
  {
   "cell_type": "code",
   "execution_count": 153,
   "id": "38f9a137-262b-43ce-8f11-81d301e497fe",
   "metadata": {},
   "outputs": [],
   "source": [
    "residuals=y_test-y_pred_test"
   ]
  },
  {
   "cell_type": "code",
   "execution_count": 154,
   "id": "485e75bd-e3b3-4745-b43a-6045d6178f94",
   "metadata": {},
   "outputs": [
    {
     "data": {
      "text/html": [
       "<div>\n",
       "<style scoped>\n",
       "    .dataframe tbody tr th:only-of-type {\n",
       "        vertical-align: middle;\n",
       "    }\n",
       "\n",
       "    .dataframe tbody tr th {\n",
       "        vertical-align: top;\n",
       "    }\n",
       "\n",
       "    .dataframe thead th {\n",
       "        text-align: right;\n",
       "    }\n",
       "</style>\n",
       "<table border=\"1\" class=\"dataframe\">\n",
       "  <thead>\n",
       "    <tr style=\"text-align: right;\">\n",
       "      <th></th>\n",
       "      <th>Height</th>\n",
       "    </tr>\n",
       "  </thead>\n",
       "  <tbody>\n",
       "    <tr>\n",
       "      <th>0</th>\n",
       "      <td>-11.741874</td>\n",
       "    </tr>\n",
       "    <tr>\n",
       "      <th>14</th>\n",
       "      <td>0.682828</td>\n",
       "    </tr>\n",
       "    <tr>\n",
       "      <th>8</th>\n",
       "      <td>3.289003</td>\n",
       "    </tr>\n",
       "    <tr>\n",
       "      <th>1</th>\n",
       "      <td>-8.953846</td>\n",
       "    </tr>\n",
       "    <tr>\n",
       "      <th>16</th>\n",
       "      <td>3.561213</td>\n",
       "    </tr>\n",
       "  </tbody>\n",
       "</table>\n",
       "</div>"
      ],
      "text/plain": [
       "       Height\n",
       "0  -11.741874\n",
       "14   0.682828\n",
       "8    3.289003\n",
       "1   -8.953846\n",
       "16   3.561213"
      ]
     },
     "execution_count": 154,
     "metadata": {},
     "output_type": "execute_result"
    }
   ],
   "source": [
    "residuals"
   ]
  },
  {
   "cell_type": "code",
   "execution_count": 155,
   "id": "03aebcaf-8938-465f-801d-548f6e96884e",
   "metadata": {},
   "outputs": [
    {
     "data": {
      "text/plain": [
       "<seaborn.axisgrid.FacetGrid at 0x7f0bed50bb50>"
      ]
     },
     "execution_count": 155,
     "metadata": {},
     "output_type": "execute_result"
    },
    {
     "data": {
      "image/png": "[encoded data removed]",
      "text/plain": [
       "<Figure size 595.875x500 with 1 Axes>"
      ]
     },
     "metadata": {},
     "output_type": "display_data"
    }
   ],
   "source": [
    "sns.displot(residuals,kde=True)"
   ]
  },
  {
   "cell_type": "code",
   "execution_count": 156,
   "id": "4ab05381-8300-499f-903d-e73d1f12eaa0",
   "metadata": {},
   "outputs": [
    {
     "data": {
      "text/plain": [
       "<matplotlib.collections.PathCollection at 0x7f0e1c2efca0>"
      ]
     },
     "execution_count": 156,
     "metadata": {},
     "output_type": "execute_result"
    },
    {
     "data": {
      "image/png": "[encoded data removed]",
      "text/plain": [
       "<Figure size 640x480 with 1 Axes>"
      ]
     },
     "metadata": {},
     "output_type": "display_data"
    }
   ],
   "source": [
    "plt.scatter(y_pred_test,residuals)"
   ]
  },
  {
   "cell_type": "markdown",
   "id": "62cfbc5a-e6db-466a-9a83-aabee6e53c2b",
   "metadata": {},
   "source": [
    "## Pickling \n",
    "Python pickle module is used for serialising and de-serialising a Python object structure. Any object in Python can be pickled so that it can be saved on disk. What pickle does is that it “serialises” the object first before writing it to file. Pickling is a way to convert a python object (list, dict, etc.) into a character stream. The idea is that this character stream contains all the information necessary to reconstruct the object in another python script."
   ]
  },
  {
   "cell_type": "code",
   "execution_count": 157,
   "id": "99291397-b0a5-412f-b903-77c7446903f4",
   "metadata": {},
   "outputs": [],
   "source": [
    "import pickle"
   ]
  },
  {
   "cell_type": "code",
   "execution_count": 158,
   "id": "23654331-feca-468b-b5d0-a3f41db4339f",
   "metadata": {},
   "outputs": [],
   "source": [
    "pickle.dump(regressor,open('linearregressor.pkl','wb'))"
   ]
  },
  {
   "cell_type": "code",
   "execution_count": 159,
   "id": "d92999da-f722-494d-96df-e123024d3ca9",
   "metadata": {},
   "outputs": [],
   "source": [
    "model=pickle.load(open('linearregressor.pkl','rb'))"
   ]
  },
  {
   "cell_type": "code",
   "execution_count": 160,
   "id": "c6e839a3-07ba-4038-a110-3e75b3d1aa04",
   "metadata": {},
   "outputs": [
    {
     "data": {
      "text/plain": [
       "array([[159.64705882]])"
      ]
     },
     "execution_count": 160,
     "metadata": {},
     "output_type": "execute_result"
    }
   ],
   "source": [
    "#Single input for all features price prediction\n",
    "data=[[40]]\n",
    "data=scaler.fit_transform(data)\n",
    "# m,n=data.shape\n",
    "# data=data.reshape(n,m)\n",
    "model.predict(data)"
   ]
  },
  {
   "cell_type": "code",
   "execution_count": 161,
   "id": "e09caad5-aaa0-4ac0-b856-a95ea080a9b5",
   "metadata": {},
   "outputs": [
    {
     "data": {
      "text/plain": [
       "array([[159.64705882],\n",
       "       [159.64705882]])"
      ]
     },
     "execution_count": 161,
     "metadata": {},
     "output_type": "execute_result"
    }
   ],
   "source": [
    "#Multiple input for all features price prediction\n",
    "data=[[70,45]]\n",
    "data=scaler.fit_transform(data)\n",
    "m,n=data.shape\n",
    "data=data.reshape(n,m)\n",
    "model.predict(data)"
   ]
  },
  {
   "cell_type": "code",
   "execution_count": 162,
   "id": "cc0d1366-ab1b-4243-8a9c-978a06f4352a",
   "metadata": {},
   "outputs": [
    {
     "data": {
      "text/plain": [
       "(5, 1)"
      ]
     },
     "execution_count": 162,
     "metadata": {},
     "output_type": "execute_result"
    }
   ],
   "source": [
    "X_test.shape\n"
   ]
  },
  {
   "cell_type": "code",
   "execution_count": 163,
   "id": "e1da5c67-55f6-46fb-89d5-13cd3447fc73",
   "metadata": {},
   "outputs": [
    {
     "data": {
      "text/plain": [
       "(2, 1)"
      ]
     },
     "execution_count": 163,
     "metadata": {},
     "output_type": "execute_result"
    }
   ],
   "source": [
    "data.shape"
   ]
  },
  {
   "cell_type": "code",
   "execution_count": null,
   "id": "0915bfbc-d0a4-4335-b8cc-5dd9e5640e12",
   "metadata": {},
   "outputs": [],
   "source": []
  }
 ],
 "metadata": {
  "kernelspec": {
   "display_name": "Python 3 (ipykernel)",
   "language": "python",
   "name": "python3"
  },
  "language_info": {
   "codemirror_mode": {
    "name": "ipython",
    "version": 3
   },
   "file_extension": ".py",
   "mimetype": "text/x-python",
   "name": "python",
   "nbconvert_exporter": "python",
   "pygments_lexer": "ipython3",
   "version": "3.10.8"
  }
 },
 "nbformat": 4,
 "nbformat_minor": 5
}
